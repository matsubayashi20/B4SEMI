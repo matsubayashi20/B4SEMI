{
 "cells": [
  {
   "cell_type": "code",
   "execution_count": 21,
   "metadata": {},
   "outputs": [],
   "source": [
    "import numpy as np\n",
    "from ch8_ver7 import sample_mean, sample_variance, sample_covariance_matrix, whitening_matrix\n",
    "def white(mat):\n",
    "    X = np.array(mat)\n",
    "    gyou = X.shape[0]\n",
    "    retu = X.shape[1]\n",
    "    C = np.cov(X, bias=True)\n",
    "    lam, U = np.linalg.eig(C)\n",
    "    t = np.array([ -1 if i == True else 1 for i in U[0]<0 ])\n",
    "    U = U * t\n",
    "    indx = lam.argsort()[::-1]\n",
    "    lam = lam[indx]\n",
    "    U = U[:,indx]\n",
    "    print(\"matsu\")\n",
    "    print(U)\n",
    "    Lam = np.diag(lam)\n",
    "    res = np.dot(np.linalg.inv(np.sqrt(Lam)),U.T)\n",
    "    return res"
   ]
  },
  {
   "cell_type": "code",
   "execution_count": 22,
   "metadata": {},
   "outputs": [],
   "source": [
    "a = np.array([[40, 80, 90], [80, 90, 100]])\n",
    "b = np.array([[-45.82,-25.35,-32.05,39.32], [28.12,-14.17,33.94,-22.47], [-43.96,37.21,2.99,21.92]])\n",
    "c = np.array([[-1,4.3,-1.1,-0.7,-1],[-5.6,-8,-3.2,3.4,-1.6],[7,-3.6,-2,-2.6,0.4],[-3.1,-1.1,4,5.6,1.7]])"
   ]
  },
  {
   "cell_type": "code",
   "execution_count": 23,
   "metadata": {},
   "outputs": [
    {
     "name": "stdout",
     "output_type": "stream",
     "text": [
      "matsu\n",
      "[[ 0.94027158  0.34042526]\n",
      " [ 0.34042526 -0.94027158]]\n",
      "matsu\n",
      "[[ 0.64342385  0.67708876  0.35715061]\n",
      " [-0.51097587  0.03247482  0.8589814 ]\n",
      " [ 0.57000825 -0.73518446  0.36687109]]\n",
      "matsu\n",
      "[[ 0.122864    0.47947366  0.62888431  0.59959484]\n",
      " [-0.64031768 -0.45324281  0.60412579 -0.13998661]\n",
      " [ 0.4684126  -0.75143402  0.03999134  0.46296571]\n",
      " [-0.59622759 -0.00478294 -0.48778812  0.63761472]]\n"
     ]
    }
   ],
   "source": [
    "aw = white(a)\n",
    "bw = white(b)\n",
    "cw = white(c)\n",
    "aws = whitening_matrix(a)\n",
    "bws = whitening_matrix(b)\n",
    "cws = whitening_matrix(c)"
   ]
  },
  {
   "cell_type": "code",
   "execution_count": 28,
   "metadata": {},
   "outputs": [
    {
     "data": {
      "text/plain": [
       "(4, 4)"
      ]
     },
     "execution_count": 28,
     "metadata": {},
     "output_type": "execute_result"
    }
   ],
   "source": [
    "exp = np.array([[0.023342910587869133, -0.12165384962747014, 0.08899363123730368, -0.1132771806067438], [0.12387241888532186, -0.11709565785890363, -0.1941336043291668, -0.0012356773195523584], [0.5338130178481921, 0.5127973559490143, 0.03394566591585277, -0.41404698243612936], [2.7978562593515828, -0.6532117590551376, 2.1603112740043433, 2.975266304140435]])\n",
    "np.array(exp).shape"
   ]
  },
  {
   "cell_type": "code",
   "execution_count": 4,
   "metadata": {},
   "outputs": [
    {
     "data": {
      "text/plain": [
       "[(0, 0),\n",
       " (0, 1),\n",
       " (0, 2),\n",
       " (0, 3),\n",
       " (1, 0),\n",
       " (1, 1),\n",
       " (1, 2),\n",
       " (1, 3),\n",
       " (2, 0),\n",
       " (2, 1),\n",
       " (2, 2),\n",
       " (2, 3),\n",
       " (3, 0),\n",
       " (3, 1),\n",
       " (3, 2),\n",
       " (3, 3)]"
      ]
     },
     "execution_count": 4,
     "metadata": {},
     "output_type": "execute_result"
    }
   ],
   "source": [
    "from itertools import product\n",
    "# for i, j in product(range(len(exp)), repeat=2):\n",
    "#     print(i,j)\n",
    "list(product(range(4), repeat=2))"
   ]
  },
  {
   "cell_type": "code",
   "execution_count": null,
   "metadata": {},
   "outputs": [],
   "source": []
  }
 ],
 "metadata": {
  "kernelspec": {
   "display_name": "Python 3",
   "language": "python",
   "name": "python3"
  },
  "language_info": {
   "codemirror_mode": {
    "name": "ipython",
    "version": 3
   },
   "file_extension": ".py",
   "mimetype": "text/x-python",
   "name": "python",
   "nbconvert_exporter": "python",
   "pygments_lexer": "ipython3",
   "version": "3.7.7"
  }
 },
 "nbformat": 4,
 "nbformat_minor": 4
}

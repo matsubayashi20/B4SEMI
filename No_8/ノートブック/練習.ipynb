{
 "cells": [
  {
   "cell_type": "code",
   "execution_count": 2,
   "metadata": {},
   "outputs": [],
   "source": [
    "import numpy as np\n",
    "\n",
    "def whitening(x):\n",
    "    X = np.array(x)\n",
    "    d = X.shape[0]\n",
    "    n = X.shape[1]\n",
    "    mu = X.mean(axis = 1).reshape((d, 1))\n",
    "    C = np.dot((X - mu), (X - mu).T) / n\n",
    "    lam, U = np.linalg.eig(C)\n",
    "    LAMBDA = np.diag(lam)\n",
    "    res = np.dot(np.linalg.inv(np.sqrt(LAMBDA)), U.T)\n",
    "#     res = np.dot(np.linalg.inv(np.sqrt(LAMBDA)), np.dot(U.T, X))\n",
    "    return res"
   ]
  },
  {
   "cell_type": "code",
   "execution_count": 3,
   "metadata": {},
   "outputs": [
    {
     "name": "stdout",
     "output_type": "stream",
     "text": [
      "[[-0.01424567  0.01131322 -0.01262022]\n",
      " [ 0.03135495  0.00150386 -0.03404527]\n",
      " [ 0.03259725  0.0783995   0.03348444]]\n"
     ]
    }
   ],
   "source": [
    "fl=[[-45.82,-25.35,-32.05,39.32], [28.12,-14.17,33.94,-22.47], [-43.96,37.21,2.99,21.92]]\n",
    "fl_res = whitening(fl)\n",
    "print(fl_res)"
   ]
  },
  {
   "cell_type": "code",
   "execution_count": 4,
   "metadata": {},
   "outputs": [
    {
     "name": "stdout",
     "output_type": "stream",
     "text": [
      "[[ 2.33429106e-02 -1.21653850e-01  8.89936312e-02 -1.13277181e-01]\n",
      " [ 1.23872419e-01 -1.17095658e-01 -1.94133604e-01 -1.23567732e-03]\n",
      " [-2.79785626e+00  6.53211759e-01 -2.16031127e+00 -2.97526630e+00]\n",
      " [-5.33813018e-01 -5.12797356e-01 -3.39456659e-02  4.14046982e-01]]\n"
     ]
    }
   ],
   "source": [
    "flint = [[-1,4.3,-1.1,-0.7,-1],[-5.6,-8,-3.2,3.4,-1.6],[7,-3.6,-2,-2.6,0.4],[-3.1,-1.1,4,5.6,1.7]]\n",
    "flint_res = whitening(flint)\n",
    "print(flint_res)"
   ]
  },
  {
   "cell_type": "code",
   "execution_count": 18,
   "metadata": {},
   "outputs": [
    {
     "name": "stdout",
     "output_type": "stream",
     "text": [
      "[27.70379583 14.98236146  0.04592667  1.38791604]\n",
      "[[ 0.122864    0.47947366 -0.59959484 -0.62888431]\n",
      " [-0.64031768 -0.45324281  0.13998661 -0.60412579]\n",
      " [ 0.4684126  -0.75143402 -0.46296571 -0.03999134]\n",
      " [-0.59622759 -0.00478294 -0.63761472  0.48778812]]\n",
      "[27.70379583 14.98236146  1.38791604  0.04592667]\n",
      "[[ 0.122864    0.47947366 -0.62888431 -0.59959484]\n",
      " [-0.64031768 -0.45324281 -0.60412579  0.13998661]\n",
      " [ 0.4684126  -0.75143402 -0.03999134 -0.46296571]\n",
      " [-0.59622759 -0.00478294  0.48778812 -0.63761472]]\n"
     ]
    }
   ],
   "source": [
    "X = np.array(flint)\n",
    "d = X.shape[0]\n",
    "n = X.shape[1]\n",
    "mu = X.mean(axis = 1).reshape((d, 1))\n",
    "C = np.dot((X - mu), (X - mu).T) / n\n",
    "lam, U = np.linalg.eig(C)\n",
    "print(lam)\n",
    "print(U)\n",
    "lam = np.sort(lam)[::-1]\n",
    "U = U[:, [0,1,3,2]]\n",
    "print(lam)\n",
    "print(U)\n",
    "LAMBDA = np.diag(lam)\n",
    "res = np.dot(np.linalg.inv(np.sqrt(LAMBDA)), U.T)"
   ]
  },
  {
   "cell_type": "code",
   "execution_count": 19,
   "metadata": {},
   "outputs": [
    {
     "name": "stdout",
     "output_type": "stream",
     "text": [
      "[[ 2.33429106e-02 -1.21653850e-01  8.89936312e-02 -1.13277181e-01]\n",
      " [ 1.23872419e-01 -1.17095658e-01 -1.94133604e-01 -1.23567732e-03]\n",
      " [-5.33813018e-01 -5.12797356e-01 -3.39456659e-02  4.14046982e-01]\n",
      " [-2.79785626e+00  6.53211759e-01 -2.16031127e+00 -2.97526630e+00]]\n"
     ]
    }
   ],
   "source": [
    "print(res)"
   ]
  },
  {
   "cell_type": "code",
   "execution_count": null,
   "metadata": {},
   "outputs": [],
   "source": []
  }
 ],
 "metadata": {
  "kernelspec": {
   "display_name": "Python 3",
   "language": "python",
   "name": "python3"
  },
  "language_info": {
   "codemirror_mode": {
    "name": "ipython",
    "version": 3
   },
   "file_extension": ".py",
   "mimetype": "text/x-python",
   "name": "python",
   "nbconvert_exporter": "python",
   "pygments_lexer": "ipython3",
   "version": "3.7.7"
  }
 },
 "nbformat": 4,
 "nbformat_minor": 4
}

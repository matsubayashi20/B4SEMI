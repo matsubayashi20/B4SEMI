{
 "cells": [
  {
   "cell_type": "code",
   "execution_count": 1,
   "metadata": {},
   "outputs": [
    {
     "name": "stdout",
     "output_type": "stream",
     "text": [
      "[[ 2.-1.j]\n",
      " [ 0.+1.j]\n",
      " [-0.-1.j]]\n",
      "[[0.+3.j]\n",
      " [1.+1.j]\n",
      " [4.+1.j]]\n",
      "[[ 2.-1.j  0.+1.j -0.-1.j]]\n"
     ]
    }
   ],
   "source": [
    "import numpy as np\n",
    "\n",
    "x = [[2-1j], [1j], [-1j]]\n",
    "y = [[3j], [1+1j], [4+1j]]\n",
    "\n",
    "vecx = np.array(x)\n",
    "vecy = np.array(y)\n",
    "print(vecx)\n",
    "print(vecy)\n",
    "vecx = vecx.reshape(1,-1)\n",
    "print(vecx)"
   ]
  },
  {
   "cell_type": "code",
   "execution_count": 2,
   "metadata": {},
   "outputs": [
    {
     "name": "stdout",
     "output_type": "stream",
     "text": [
      "[(0, 0), (0, 1), (0, 2), (0, 3), (0, 4), (1, 1), (1, 2), (1, 3), (1, 4), (2, 2), (2, 3), (2, 4), (3, 3), (3, 4), (4, 4)]\n",
      "[(0, 1), (0, 2), (0, 3), (0, 4), (1, 0), (1, 2), (1, 3), (1, 4), (2, 0), (2, 1), (2, 3), (2, 4), (3, 0), (3, 1), (3, 2), (3, 4), (4, 0), (4, 1), (4, 2), (4, 3)]\n",
      "[(0, 0), (0, 1), (0, 2), (0, 3), (0, 4), (1, 0), (1, 1), (1, 2), (1, 3), (1, 4), (2, 0), (2, 1), (2, 2), (2, 3), (2, 4), (3, 0), (3, 1), (3, 2), (3, 3), (3, 4), (4, 0), (4, 1), (4, 2), (4, 3), (4, 4)]\n"
     ]
    }
   ],
   "source": [
    "from itertools import combinations_with_replacement, permutations, product\n",
    "# for i, j in combinations_with_replacement(range(5), 2):\n",
    "#     print(i,j)\n",
    "# for i, j in permutations(range(5), 2):\n",
    "#     print(i,j)\n",
    "print(list(combinations_with_replacement(range(5), 2)))\n",
    "print(list(permutations(range(5), 2)))\n",
    "print(list(product(range(5), repeat=2)))"
   ]
  },
  {
   "cell_type": "code",
   "execution_count": 3,
   "metadata": {},
   "outputs": [
    {
     "name": "stdout",
     "output_type": "stream",
     "text": [
      "(-3-9j)\n"
     ]
    }
   ],
   "source": [
    "def euclidean_inner_product(vector1, vector2):\n",
    "    # numpy配列変換\n",
    "    vecx = np.array(vector1)\n",
    "    vecy = np.array(vector2)\n",
    "\n",
    "    # エラー処理\n",
    "    if not vecx.shape == vecy.shape:\n",
    "        raise ValueError(\"ベクトルのサイズが違います\")\n",
    "\n",
    "    vecx = np.array(vector1).reshape(-1, 1)\n",
    "    vecy = np.array(vector2).reshape(-1, 1)\n",
    "\n",
    "    # 共役をとる\n",
    "    conj_y = vecy.conj()\n",
    "\n",
    "    # 成分ごとに加算\n",
    "    tmp = [vx[0] * cy[0] for (vx, cy) in zip(vecx, conj_y)]\n",
    "    res = sum(tmp)\n",
    "\n",
    "    # 直交性の判断\n",
    "    is_orthogonal = round(res, 7) == 0\n",
    "\n",
    "    return res, is_orthogonal\n",
    "\n",
    "x = [[2-1j], [1j], [-1j]]\n",
    "y = [[3j], [1+1j], [4+1j]]\n",
    "print(euclidean_inner_product(x,y)[0])"
   ]
  },
  {
   "cell_type": "code",
   "execution_count": 4,
   "metadata": {},
   "outputs": [
    {
     "name": "stdout",
     "output_type": "stream",
     "text": [
      "u0 [[1]\n",
      " [1]\n",
      " [0]]\n",
      "v0 [[0.70710678]\n",
      " [0.70710678]\n",
      " [0.        ]]\n",
      "------i=1 start------\n",
      "ui =  [[0]\n",
      " [1]\n",
      " [1]]\n",
      "ui_var は [[0.]\n",
      " [0.]\n",
      " [0.]]\n",
      "\n",
      "j= 0\n",
      "ui_var は [[0.5]\n",
      " [0.5]\n",
      " [0. ]]\n",
      "\n",
      "ui - ui_var は [[-0.5]\n",
      " [ 0.5]\n",
      " [ 1. ]]\n",
      "viは [[-0.40824829]\n",
      " [ 0.40824829]\n",
      " [ 0.81649658]]\n",
      "------i=1 end------\n",
      "\n",
      "------i=2 start------\n",
      "ui =  [[1]\n",
      " [0]\n",
      " [1]]\n",
      "ui_var は [[0.]\n",
      " [0.]\n",
      " [0.]]\n",
      "\n",
      "j= 0\n",
      "ui_var は [[0.5]\n",
      " [0.5]\n",
      " [0. ]]\n",
      "\n",
      "j= 1\n",
      "ui_var は [[0.33333333]\n",
      " [0.66666667]\n",
      " [0.33333333]]\n",
      "\n",
      "ui - ui_var は [[ 0.66666667]\n",
      " [-0.66666667]\n",
      " [ 0.66666667]]\n",
      "viは [[ 0.57735027]\n",
      " [-0.57735027]\n",
      " [ 0.57735027]]\n",
      "------i=2 end------\n",
      "\n"
     ]
    },
    {
     "data": {
      "text/plain": [
       "matrix([[ 0.70710678, -0.40824829,  0.57735027],\n",
       "        [ 0.70710678,  0.40824829, -0.57735027],\n",
       "        [ 0.        ,  0.81649658,  0.57735027]])"
      ]
     },
     "execution_count": 4,
     "metadata": {},
     "output_type": "execute_result"
    }
   ],
   "source": [
    "u = np.array([[1,1,0],[0,1,1],[1,0,1]]).T\n",
    "\n",
    "def n_norm(vector, n=2):\n",
    "    # 強制的に縦ベクトルに変換\n",
    "    vec = np.array(vector).reshape(-1, 1)\n",
    "\n",
    "    # 計算\n",
    "    tmp = [abs(v[0]) ** n for v in vec]\n",
    "\n",
    "    # 全部加算してn乗根\n",
    "    res = sum(tmp)**(1 / n)\n",
    "\n",
    "    return res\n",
    "\n",
    "def Gram_Schmidt_orthonormalization(matrix):\n",
    "    # numpy基底行列matrix_u\n",
    "    matrix_u = np.matrix(matrix)\n",
    "    u_len = len(matrix_u)\n",
    "    u_N = matrix_u.shape[0]\n",
    "\n",
    "    for i in range(u_len):\n",
    "        is_norm_zero = n_norm(matrix_u[:, i])\n",
    "        if is_norm_zero == 0:\n",
    "            raise ZeroDivisionError(\"ノルムが0です\")\n",
    "        else:\n",
    "            pass\n",
    "\n",
    "    # 第一手順\n",
    "    u0 = matrix_u[:, 0]  # 一つ目の基底を縦ベクトルで取得\n",
    "    print(\"u0\", u0)\n",
    "    v0 = u0/(n_norm(u0))\n",
    "    matrix_v = np.matrix(v0)\n",
    "    print(\"v0\", matrix_v[:,0])\n",
    "    \n",
    "    # 第一手順 i = 2 , 3 , ... N\n",
    "    for i in range(1, u_len):\n",
    "        print(\"------i={0} start------\".format(i))\n",
    "        ui = matrix_u[:, i]\n",
    "        print(\"ui = \", ui)\n",
    "        ui_var = np.zeros((u_N,1))\n",
    "        print(\"ui_var は {0}\\n\".format(ui_var))\n",
    "        for j in range(i):\n",
    "            print(\"j=\", j)\n",
    "            ui_var += matrix_v[:,j] * euclidean_inner_product(ui, matrix_v[:, j])[0]\n",
    "            print(\"ui_var は {0}\\n\".format(ui_var))\n",
    "#         u_tmp = [matrix_v[:, j] * euclidean_inner_product(ui, matrix_v[:, j])[0] for j in range(i)]\n",
    "#         print(\"u_tmp は\", u_tmp)\n",
    "#         ui_ = np.sum(u_tmp, axis=1)\n",
    "        \n",
    "        print(\"ui - ui_var は\", (ui-ui_var))\n",
    "        vi = (ui-ui_var)/(n_norm(ui-ui_var))\n",
    "        print(\"viは\",vi)\n",
    "        matrix_v = np.hstack((matrix_v, vi))\n",
    "        print(\"------i={0} end------\\n\".format(i))\n",
    "        \n",
    "    return matrix_v\n",
    "\n",
    "Gram_Schmidt_orthonormalization(u)"
   ]
  },
  {
   "cell_type": "code",
   "execution_count": 12,
   "metadata": {},
   "outputs": [],
   "source": [
    "def cosine_similarity(vector1, vector2):\n",
    "    # 内積計算\n",
    "    ip_xy, __ = euclidean_inner_product(vector1, vector2)\n",
    "\n",
    "    # ノルム計算\n",
    "    norm_x = n_norm(vector1)\n",
    "    norm_y = n_norm(vector2)\n",
    "\n",
    "    if norm_x == 0 or norm_y == 0:\n",
    "        raise ZeroDivisionError(\"ノルムが0です\")\n",
    "\n",
    "    # コサイン類似度計算\n",
    "    res = ip_xy.real / (norm_x * norm_y)\n",
    "    print(type(ip_xy))\n",
    "    print(ip_xy)\n",
    "    print(ip_xy.real)\n",
    "\n",
    "    return res\n",
    "\n"
   ]
  },
  {
   "cell_type": "code",
   "execution_count": 13,
   "metadata": {},
   "outputs": [
    {
     "name": "stdout",
     "output_type": "stream",
     "text": [
      "<class 'numpy.float64'>\n",
      "1.023\n",
      "1.023\n",
      "コサイン類似度は 0.05227442125730368\n"
     ]
    }
   ],
   "source": [
    "xxx = [[0.4], [5.6], [-0.07]]\n",
    "yyy = [[-1.1], [0.22], [-3.3]]\n",
    "print(\"コサイン類似度は {0}\".format(cosine_similarity(xxx,yyy)))"
   ]
  },
  {
   "cell_type": "code",
   "execution_count": null,
   "metadata": {},
   "outputs": [],
   "source": []
  }
 ],
 "metadata": {
  "kernelspec": {
   "display_name": "Python 3.7.7 64-bit",
   "language": "python",
   "name": "python37764bit4be92cde70994f88b2b5bdbbd544d8ed"
  },
  "language_info": {
   "codemirror_mode": {
    "name": "ipython",
    "version": 3
   },
   "file_extension": ".py",
   "mimetype": "text/x-python",
   "name": "python",
   "nbconvert_exporter": "python",
   "pygments_lexer": "ipython3",
   "version": "3.7.7"
  }
 },
 "nbformat": 4,
 "nbformat_minor": 4
}

{
 "cells": [
  {
   "cell_type": "code",
   "execution_count": 32,
   "metadata": {},
   "outputs": [
    {
     "name": "stdout",
     "output_type": "stream",
     "text": [
      "10 <class 'int'>\n",
      "None <class 'NoneType'>\n",
      "ちょうど100ですわ <class '__main__.Is100Error'>\n"
     ]
    },
    {
     "ename": "Over100Error",
     "evalue": "100以上ですわ",
     "output_type": "error",
     "traceback": [
      "\u001b[1;31m---------------------------------------------------------------------------\u001b[0m",
      "\u001b[1;31mOver100Error\u001b[0m                              Traceback (most recent call last)",
      "\u001b[1;32m<ipython-input-32-a021f75a94f3>\u001b[0m in \u001b[0;36m<module>\u001b[1;34m\u001b[0m\n\u001b[0;32m     35\u001b[0m     \u001b[0mc\u001b[0m\u001b[1;33m=\u001b[0m\u001b[0mcnt\u001b[0m\u001b[1;33m(\u001b[0m\u001b[1;36m100\u001b[0m\u001b[1;33m)\u001b[0m\u001b[1;33m\u001b[0m\u001b[1;33m\u001b[0m\u001b[0m\n\u001b[0;32m     36\u001b[0m     \u001b[0mprint\u001b[0m\u001b[1;33m(\u001b[0m\u001b[0mc\u001b[0m\u001b[1;33m,\u001b[0m\u001b[0mtype\u001b[0m\u001b[1;33m(\u001b[0m\u001b[0mc\u001b[0m\u001b[1;33m)\u001b[0m\u001b[1;33m)\u001b[0m \u001b[1;31m#エラーをはくけどキャッチしてエラーオブジェクトをかえすから止まらない\u001b[0m\u001b[1;33m\u001b[0m\u001b[1;33m\u001b[0m\u001b[0m\n\u001b[1;32m---> 37\u001b[1;33m     \u001b[0md\u001b[0m\u001b[1;33m=\u001b[0m\u001b[0mcnt\u001b[0m\u001b[1;33m(\u001b[0m\u001b[1;36m101\u001b[0m\u001b[1;33m)\u001b[0m\u001b[1;33m\u001b[0m\u001b[1;33m\u001b[0m\u001b[0m\n\u001b[0m\u001b[0;32m     38\u001b[0m     \u001b[0mprint\u001b[0m\u001b[1;33m(\u001b[0m\u001b[0md\u001b[0m\u001b[1;33m,\u001b[0m\u001b[0mtype\u001b[0m\u001b[1;33m(\u001b[0m\u001b[0md\u001b[0m\u001b[1;33m)\u001b[0m\u001b[1;33m)\u001b[0m \u001b[1;31m#エラーをはいてプロセスを止める\u001b[0m\u001b[1;33m\u001b[0m\u001b[1;33m\u001b[0m\u001b[0m\n\u001b[0;32m     39\u001b[0m     \u001b[0me\u001b[0m\u001b[1;33m=\u001b[0m\u001b[0mcnt\u001b[0m\u001b[1;33m(\u001b[0m\u001b[1;36m2\u001b[0m\u001b[1;33m)\u001b[0m\u001b[1;33m\u001b[0m\u001b[1;33m\u001b[0m\u001b[0m\n",
      "\u001b[1;32m<ipython-input-32-a021f75a94f3>\u001b[0m in \u001b[0;36mcnt\u001b[1;34m(a)\u001b[0m\n\u001b[0;32m     23\u001b[0m         \u001b[1;32mreturn\u001b[0m \u001b[0mi100\u001b[0m\u001b[1;33m\u001b[0m\u001b[1;33m\u001b[0m\u001b[0m\n\u001b[0;32m     24\u001b[0m     \u001b[1;32mexcept\u001b[0m \u001b[0mOver100Error\u001b[0m \u001b[1;32mas\u001b[0m \u001b[0me100\u001b[0m\u001b[1;33m:\u001b[0m \u001b[1;31m#100より大きいならエラーを吐いてプロセスが止まる（コード自体が止まる）\u001b[0m\u001b[1;33m\u001b[0m\u001b[1;33m\u001b[0m\u001b[0m\n\u001b[1;32m---> 25\u001b[1;33m         \u001b[1;32mraise\u001b[0m \u001b[0me100\u001b[0m\u001b[1;33m\u001b[0m\u001b[1;33m\u001b[0m\u001b[0m\n\u001b[0m\u001b[0;32m     26\u001b[0m \u001b[1;33m\u001b[0m\u001b[0m\n\u001b[0;32m     27\u001b[0m     \u001b[0mprint\u001b[0m\u001b[1;33m(\u001b[0m\u001b[1;34m\"関数の最後よ\"\u001b[0m\u001b[1;33m)\u001b[0m\u001b[1;33m\u001b[0m\u001b[1;33m\u001b[0m\u001b[0m\n",
      "\u001b[1;32m<ipython-input-32-a021f75a94f3>\u001b[0m in \u001b[0;36mcnt\u001b[1;34m(a)\u001b[0m\n\u001b[0;32m     15\u001b[0m             \u001b[1;32mraise\u001b[0m \u001b[0mIs100Error\u001b[0m\u001b[1;33m(\u001b[0m\u001b[1;34m\"ちょうど100ですわ\"\u001b[0m\u001b[1;33m)\u001b[0m\u001b[1;33m\u001b[0m\u001b[1;33m\u001b[0m\u001b[0m\n\u001b[0;32m     16\u001b[0m         \u001b[1;32melif\u001b[0m \u001b[0ma\u001b[0m \u001b[1;33m>\u001b[0m \u001b[1;36m100\u001b[0m\u001b[1;33m:\u001b[0m\u001b[1;33m\u001b[0m\u001b[1;33m\u001b[0m\u001b[0m\n\u001b[1;32m---> 17\u001b[1;33m             \u001b[1;32mraise\u001b[0m \u001b[0mOver100Error\u001b[0m\u001b[1;33m(\u001b[0m\u001b[1;34m\"100以上ですわ\"\u001b[0m\u001b[1;33m)\u001b[0m\u001b[1;33m\u001b[0m\u001b[1;33m\u001b[0m\u001b[0m\n\u001b[0m\u001b[0;32m     18\u001b[0m         \u001b[1;32melse\u001b[0m\u001b[1;33m:\u001b[0m\u001b[1;33m\u001b[0m\u001b[1;33m\u001b[0m\u001b[0m\n\u001b[0;32m     19\u001b[0m             \u001b[1;32mreturn\u001b[0m \u001b[0ma\u001b[0m \u001b[1;33m*\u001b[0m \u001b[1;36m10\u001b[0m\u001b[1;33m\u001b[0m\u001b[1;33m\u001b[0m\u001b[0m\n",
      "\u001b[1;31mOver100Error\u001b[0m: 100以上ですわ"
     ]
    }
   ],
   "source": [
    "class Under0Error(Exception):\n",
    "    pass\n",
    "\n",
    "class Over100Error(Exception):\n",
    "    pass\n",
    "\n",
    "class Is100Error(Exception):\n",
    "    pass\n",
    "\n",
    "def cnt(a):\n",
    "    try:\n",
    "        if a < 0:\n",
    "            raise Under0Error(\"0以下ですわ\")\n",
    "        elif a == 100:\n",
    "            raise Is100Error(\"ちょうど100ですわ\")\n",
    "        elif a > 100:\n",
    "            raise Over100Error(\"100以上ですわ\")\n",
    "        else:\n",
    "            return a * 10\n",
    "    except Under0Error as u0: #0より小さいなら関数を抜けてNoneを返す（コードは止まらない）\n",
    "        return\n",
    "    except Is100Error as i100: #ちょうど100なら関数を抜けエラーオブジェクトをかえす（コードは止まらない）\n",
    "        return i100\n",
    "    except Over100Error as e100: #100より大きいならエラーを吐いてプロセスが止まる（コード自体が止まる）\n",
    "        raise e100\n",
    "        \n",
    "    print(\"関数の最後よ\")\n",
    "\n",
    "\n",
    "if __name__ == \"__main__\":\n",
    "    a=cnt(1)\n",
    "    print(a,type(a)) #正常に動作\n",
    "    b=cnt(-1)\n",
    "    print(b,type(b)) #エラーをはくけどキャッチして関数を抜け，Noneを返すから止まらない\n",
    "    c=cnt(100)\n",
    "    print(c,type(c)) #エラーをはくけどキャッチしてエラーオブジェクトをかえすから止まらない\n",
    "    d=cnt(101)\n",
    "    print(d,type(d)) #エラーをはいてプロセスを止める\n",
    "    e=cnt(2)\n",
    "    print(e,type(e)) #dでエラーをはいてプロセスがとまったからeは実行されない"
   ]
  }
 ],
 "metadata": {
  "kernelspec": {
   "display_name": "Python 3",
   "language": "python",
   "name": "python3"
  },
  "language_info": {
   "codemirror_mode": {
    "name": "ipython",
    "version": 3
   },
   "file_extension": ".py",
   "mimetype": "text/x-python",
   "name": "python",
   "nbconvert_exporter": "python",
   "pygments_lexer": "ipython3",
   "version": "3.7.7"
  }
 },
 "nbformat": 4,
 "nbformat_minor": 4
}

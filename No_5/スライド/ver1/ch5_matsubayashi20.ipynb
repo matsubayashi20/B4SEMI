{
 "cells": [
  {
   "cell_type": "code",
   "execution_count": 44,
   "metadata": {
    "slideshow": {
     "slide_type": "skip"
    }
   },
   "outputs": [],
   "source": [
    "import numpy as np\n",
    "import math"
   ]
  },
  {
   "cell_type": "markdown",
   "metadata": {
    "slideshow": {
     "slide_type": "slide"
    }
   },
   "source": [
    "# B 4 本読み第 5 回 \n",
    "## 内積と直交性\n",
    "2020/05/08  \n",
    "実装担当：松林慶祐 / テスト担当：重見開\n"
   ]
  },
  {
   "cell_type": "markdown",
   "metadata": {
    "slideshow": {
     "slide_type": "slide"
    }
   },
   "source": [
    "## 目次\n",
    "\n",
    "- 実装環境\n",
    "- ユークリッド空間\n",
    "- n- ノルム\n",
    "- コサイン類似度\n",
    "- 正規直交基底とユニタリ行列\n",
    "- グラム・シュミットの正規直交化\n",
    "- 正射影\n",
    "- まとめ\n"
   ]
  },
  {
   "cell_type": "markdown",
   "metadata": {
    "slideshow": {
     "slide_type": "slide"
    }
   },
   "source": [
    "## 環境\n",
    "\n",
    "- 実装環境\n",
    "    - macOS Catalina (10.15.4)\n",
    "    - Python 3.7.7\n",
    "- スライド制作環境\n",
    "    - Windows Home 64bit (1903)\n",
    "    - Jupyter Notebook 6.0.3\n",
    "    - Python 3.7.7\n"
   ]
  },
  {
   "cell_type": "markdown",
   "metadata": {
    "slideshow": {
     "slide_type": "slide"
    }
   },
   "source": [
    "## ユークリッド空間<br>\n",
    "ユークリッド内積を導入した空間のこと．\n",
    "一般的に知られている内積はユークリッド内積といい，<br>\n",
    "二つのベクトル $\\boldsymbol{x},\\boldsymbol{y}\\in{\\mathbb{C}^{N}}$ に対して，以下の式で表される.  \n",
    "*$ \\langle \\boldsymbol{x},\\boldsymbol{y} \\rangle = \\boldsymbol{y}^H\n",
    "\\boldsymbol{x} = x_1\\overline{y_1}+x_2\\overline{y_2}+\\cdots+x_N\\overline{y_N} $*\n",
    "<br><br>\n",
    "また，内積はスカラであることから，順番を入れ替えると共役になる．  \n",
    "$ \\langle \\boldsymbol{y},\\boldsymbol{x} \\rangle =\\boldsymbol{x}^H\\boldsymbol{y}= (\\boldsymbol{y}^H\\boldsymbol{x})^H = \\overline{\\boldsymbol{y}^H\\boldsymbol{x}}=\\overline{\\langle \\boldsymbol{x},\\boldsymbol{y} \\rangle}$  \n",
    "  \n",
    "実数の N 次元ユークリッド空間の場合は，  \n",
    "共役を考える必要がないため，簡潔に表記できる．  \n",
    "$ \\langle \\boldsymbol{x},\\boldsymbol{y} \\rangle = \\boldsymbol{y}^T\n",
    "\\boldsymbol{x} = x_1{y_1}+x_2{y_2}+\\cdots+x_N{y_N} $"
   ]
  },
  {
   "cell_type": "markdown",
   "metadata": {
    "slideshow": {
     "slide_type": "subslide"
    }
   },
   "source": [
    "## ベクトルの直交性  \n",
    "二つのベクトル $\\boldsymbol{x},\\boldsymbol{y}\\in{\\mathbb{C}^{N}}$ の内積に対して， \n",
    "$$\\langle \\boldsymbol{x},\\boldsymbol{y} \\rangle=0$$ <br>\n",
    "が成り立つとき，<br>\n",
    "$\\boldsymbol{x}$ と $\\boldsymbol{y}$ は<strong>直交する</strong>という．"
   ]
  },
  {
   "cell_type": "markdown",
   "metadata": {
    "slideshow": {
     "slide_type": "subslide"
    }
   },
   "source": [
    "## 実装課題 1<br>\n",
    "ユーグリッド内積を求める（ついでに直交性も判定）関数を実装"
   ]
  },
  {
   "cell_type": "markdown",
   "metadata": {
    "slideshow": {
     "slide_type": "subslide"
    }
   },
   "source": [
    "## 関数の動作<br>\n",
    "\n",
    "1. 二つのベクトルを入力（縦ベクトルを想定）\n",
    "1. 縦と横の場合はエラー，横同士の場合は縦に変換\n",
    "1. 2つ目に入力されたベクトルを共役なものに変換\n",
    "1. 成分同士を掛け合わせて加算\n",
    "1. 内積の結果が 0 であったら直交であると判断\n",
    "1. 結果を縦ベクトルで出力\n"
   ]
  },
  {
   "cell_type": "markdown",
   "metadata": {
    "slideshow": {
     "slide_type": "subslide"
    }
   },
   "source": [
    "行列ベクトルを表すためにnumpyを使用"
   ]
  },
  {
   "cell_type": "code",
   "execution_count": 45,
   "metadata": {
    "slideshow": {
     "slide_type": "-"
    }
   },
   "outputs": [],
   "source": [
    "import numpy as np"
   ]
  },
  {
   "cell_type": "code",
   "execution_count": 46,
   "metadata": {
    "slideshow": {
     "slide_type": "subslide"
    }
   },
   "outputs": [],
   "source": [
    "class InnerProduct:  # 内積値と直交性かどうかのステートを持つクラス\n",
    "\n",
    "    def __init__(self, result, orthogonal):\n",
    "        self.__ip = result\n",
    "        self.__orth = orthogonal\n",
    "\n",
    "    @property\n",
    "    def ip(self):\n",
    "        return self.__ip\n",
    "\n",
    "    @property\n",
    "    def orth(self):\n",
    "        return self.__orth\n"
   ]
  },
  {
   "cell_type": "code",
   "execution_count": 47,
   "metadata": {
    "slideshow": {
     "slide_type": "subslide"
    }
   },
   "outputs": [],
   "source": [
    "def euclidean_inner_product(vector1, vector2):\n",
    "    # numpy配列変換\n",
    "    x = np.array(vector1)\n",
    "    y = np.array(vector2)\n",
    "\n",
    "    # エラー処理\n",
    "    if not x.shape == y.shape:\n",
    "        raise ValueError(\"ベクトルのサイズが違います\")\n",
    "    else:\n",
    "        pass\n",
    "\n",
    "    # 共役をとる\n",
    "    conj_y = y.conj()\n",
    "\n",
    "    # 成分ごとの積をとって加算\n",
    "    tmp = []\n",
    "    for i in range(x.size):\n",
    "        tmp.append(x[i][0] * conj_y[i][0])\n",
    "    res = sum(tmp)\n",
    "\n",
    "    # 直交性の判断\n",
    "    if round(res, 7) == 0:\n",
    "        is_orthogonal = True\n",
    "    else:\n",
    "        is_orthogonal = False\n",
    "\n",
    "    return InnerProduct(res, is_orthogonal)"
   ]
  },
  {
   "cell_type": "code",
   "execution_count": 48,
   "metadata": {
    "slideshow": {
     "slide_type": "subslide"
    }
   },
   "outputs": [
    {
     "name": "stdout",
     "output_type": "stream",
     "text": [
      "<x,y> = (-3-9j)，直交かどうか=False\n",
      "<a,b> = 0，直交かどうか=True\n"
     ]
    }
   ],
   "source": [
    "x = [[2-1j], [1j], [-1j]]\n",
    "y = [[3j], [1+1j], [4+1j]]\n",
    "x_in_y = euclidean_inner_product(x,y)\n",
    "print(\"<x,y> = {0}，直交かどうか={1}\".format(x_in_y.ip, x_in_y.orth))\n",
    "a = [[2], [3], [-1]]\n",
    "b = [[4], [-2], [2]]\n",
    "a_in_b = euclidean_inner_product(a, b)\n",
    "print(\"<a,b> = {0}，直交かどうか={1}\".format(a_in_b.ip, a_in_b.orth))"
   ]
  },
  {
   "cell_type": "markdown",
   "metadata": {
    "slideshow": {
     "slide_type": "slide"
    }
   },
   "source": [
    "## ノルム<br>\n",
    "ベクトルの長さを決める量のこと．<br>\n",
    "内積空間のベクトル $\\boldsymbol{x}$ に対して<br>\n",
    "$$\\|\\boldsymbol{x}\\| = \\sqrt{\\langle\\boldsymbol{x},\\boldsymbol{x} \\rangle}$$<br>\n",
    "をノルムと呼ぶ．<br><br>\n",
    "特に，ノルムが 1 のとき，$\\boldsymbol{x}$ は<strong>単位ベクトル</strong>であるという．"
   ]
  },
  {
   "cell_type": "markdown",
   "metadata": {
    "slideshow": {
     "slide_type": "subslide"
    }
   },
   "source": [
    "ユークリッド空間のベクトル $\\boldsymbol{x}\\in{\\mathbb{C}^{N}}$ の場合に，ノルムは<br>\n",
    "$$\\|\\boldsymbol{x}\\| = \\sqrt{\\sum_{i=1}^{N}|x_i|^2}$$<br>\n",
    "のように要素で書き下すことができ，特にこのノルムを $l_2$ ノルム，または 2- ノルムと呼ぶ．<br><br>\n",
    "一方，<br>\n",
    "$$\\|\\boldsymbol{x}\\|_1 = \\sum_{i=1}^{N}|x_i|$$<br>\n",
    "のように定義されるノルムを，$l_1$ ノルム，または 1- ノルムとよび，信号処理や機械学習で疎性（スパース性）を測るのに広く使われる．"
   ]
  },
  {
   "cell_type": "markdown",
   "metadata": {
    "slideshow": {
     "slide_type": "subslide"
    }
   },
   "source": [
    "## 実装課題 2<br>\n",
    "n- ノルムを求める（引数はベクトルとn）関数を実装"
   ]
  },
  {
   "cell_type": "markdown",
   "metadata": {
    "slideshow": {
     "slide_type": "subslide"
    }
   },
   "source": [
    "## 関数の動作<br>\n",
    "\n",
    "1. ノルムを求めるベクトルと n を入力する\n",
    "2. ベクトルの成分ごとに絶対値をとり，n 乗する\n",
    "1. n 乗したものの総和をとり，n 乗根を求める\n"
   ]
  },
  {
   "cell_type": "code",
   "execution_count": 49,
   "metadata": {
    "slideshow": {
     "slide_type": "subslide"
    }
   },
   "outputs": [],
   "source": [
    "def n_norm(vector, n=2):\n",
    "    # 縦ベクトルに変換\n",
    "    vec = np.array(vector).reshape(-1, 1)\n",
    "\n",
    "    # 計算\n",
    "    tmp = []\n",
    "    for i in range(vec.size):\n",
    "        # print(abs(vec[i][0]))\n",
    "        tmp.append(abs(vec[i][0]) ** n)  # 絶対値のn乗(たぶん複素数もOK)\n",
    "\n",
    "    # 全部加算してn乗根\n",
    "    res = sum(tmp)**(1 / n)\n",
    "\n",
    "    return res\n"
   ]
  },
  {
   "cell_type": "code",
   "execution_count": 50,
   "metadata": {
    "slideshow": {
     "slide_type": "subslide"
    }
   },
   "outputs": [
    {
     "name": "stdout",
     "output_type": "stream",
     "text": [
      "整数のみ [[-3], [2], [2], [3]]\n",
      "1- ノルムは 10.0\n",
      "2- ノルムは 5.0990195135927845\n",
      "異なる型同士 [[-3], [5.6], [(4+1j)]]\n",
      "1- ノルムは 12.72310562561766\n",
      "2- ノルムは 7.573638491504595\n"
     ]
    }
   ],
   "source": [
    "xx = [[-3], [2], [2], [3]]\n",
    "print(\"整数のみ {0}\".format(xx))\n",
    "xxnorm1 = n_norm(xx,1)\n",
    "xxnorm2 = n_norm(xx)\n",
    "print(\"1- ノルムは {0}\\n2- ノルムは {1}\".format(xxnorm1,xxnorm2))\n",
    "\n",
    "yy = [[-3], [5.6], [4+1j]]\n",
    "print(\"異なる型同士 {0}\".format(yy))\n",
    "yynorm1 = n_norm(yy,1)\n",
    "yynorm2 = n_norm(yy)\n",
    "print(\"1- ノルムは {0}\\n2- ノルムは {1}\".format(yynorm1,yynorm2))"
   ]
  },
  {
   "cell_type": "markdown",
   "metadata": {
    "slideshow": {
     "slide_type": "slide"
    }
   },
   "source": [
    "## コサイン類似度<br>\n",
    "ノルムと内積によって導入される，二つのベクトルの角度のことで，パターン間の距離を測るのに用いられる．\n",
    "$$\\cos{\\theta}=\\frac{\\langle\\boldsymbol{x},\\boldsymbol{y} \\rangle}{\\|\\boldsymbol{x}\\|\\|\\boldsymbol{y}\\|}$$<br><br>\n",
    "ベクトル同士の向きが近いほどなす角度が小さくなるので，コサイン類似度は小さくなり，向きが異なるほど，コサイン類似度は大きくなる．<br><br>\n",
    "コサイン類似度は -1 から 1 の値をとり，<br>コサイン類似度から $0\\leq\\theta\\leq\\pi$ の範囲で決まる $\\theta$ を<strong>角度</strong>と呼ぶ．"
   ]
  },
  {
   "cell_type": "markdown",
   "metadata": {
    "slideshow": {
     "slide_type": "subslide"
    }
   },
   "source": [
    "## 実装課題 3<br>\n",
    "コサイン類似度を求める関数を実装"
   ]
  },
  {
   "cell_type": "markdown",
   "metadata": {
    "slideshow": {
     "slide_type": "subslide"
    }
   },
   "source": [
    "## 関数の動作<br>\n",
    "\n",
    "1. 二つのベクトルを入力\n",
    "1. 課題 1 の関数を使って内積を計算\n",
    "1. 課題 2 の関数を使ってそれぞれのベクトルの 2- ノルムを計算\n",
    "1. 定義に従ってコサイン類似度を計算\n"
   ]
  },
  {
   "cell_type": "code",
   "execution_count": 51,
   "metadata": {
    "slideshow": {
     "slide_type": "subslide"
    }
   },
   "outputs": [],
   "source": [
    "def cosine_similarity(vector1, vector2):\n",
    "    # 内積計算\n",
    "    ip_xy = euclidean_inner_product(vector1, vector2).ip\n",
    "\n",
    "    # ノルム計算\n",
    "    norm_x = n_norm(vector1)\n",
    "    norm_y = n_norm(vector2)\n",
    "\n",
    "    if norm_x == 0 or norm_y == 0:\n",
    "        raise ZeroDivisionError(\"ノルムが0です\")\n",
    "    else:\n",
    "        pass\n",
    "\n",
    "    # コサイン類似度計算\n",
    "    res = ip_xy / (norm_x * norm_y)\n",
    "\n",
    "    return res"
   ]
  },
  {
   "cell_type": "code",
   "execution_count": 52,
   "metadata": {
    "slideshow": {
     "slide_type": "fragment"
    }
   },
   "outputs": [
    {
     "name": "stdout",
     "output_type": "stream",
     "text": [
      "コサイン類似度は 0.05227442125730368\n"
     ]
    }
   ],
   "source": [
    "xxx = [[0.4], [5.6], [-0.07]]\n",
    "yyy = [[-1.1], [0.22], [-3.3]]\n",
    "print(\"コサイン類似度は {0}\".format(cosine_similarity(xxx,yyy)))"
   ]
  },
  {
   "cell_type": "markdown",
   "metadata": {
    "slideshow": {
     "slide_type": "slide"
    }
   },
   "source": [
    "## 正規直交基底<br>\n",
    "N次元ベクトル空間の基底ベクトル $\\{\\boldsymbol{u}_i\\}_{i=1}^N$ が<br>\n",
    "\n",
    "- すべて互いに直交\n",
    "- すべての基底ベクトルのノルムが 1  \n",
    "\n",
    "のとき，この基底を<strong>正規直交基底</strong>と呼ぶ.<br><br>\n"
   ]
  },
  {
   "cell_type": "markdown",
   "metadata": {
    "slideshow": {
     "slide_type": "subslide"
    }
   },
   "source": [
    "## 正規直交展開<br>\n",
    "N次元ベクトル空間 $V$ の基底 $\\{\\boldsymbol{u}_i\\}_{i=1}^N$ が正規直交性を満たすとき，$V$ 内のベクトル $\\boldsymbol{x}\\in{V}$ は基底 $\\{\\boldsymbol{u}_i\\}_{i=1}^N$ を用いて，\n",
    "$$\\boldsymbol{x}=\\langle\\boldsymbol{x},\\boldsymbol{u}_1\\rangle\\boldsymbol{u}_1+\\langle\\boldsymbol{x},\\boldsymbol{u}_2\\rangle\\boldsymbol{u}_2+\\cdots+\\langle\\boldsymbol{x},\\boldsymbol{u}_N\\rangle\\boldsymbol{u}_N$$\n",
    "と展開できる．これを<strong>正規直交展開</strong>という．<br>\n",
    "$\\langle\\boldsymbol{x},\\boldsymbol{u}_N\\rangle$ が展開係数となっている．"
   ]
  },
  {
   "cell_type": "markdown",
   "metadata": {
    "slideshow": {
     "slide_type": "subslide"
    }
   },
   "source": [
    "## ユニタリ行列<br>\n",
    "ある行列の逆行列とエルミート転置が一致しているような行列のこと．<br>\n",
    "すなわち，$\\boldsymbol{A}^{-1}=\\boldsymbol{A}^H$ より$\\boldsymbol{A}\\boldsymbol{A}^H=\\boldsymbol{A}^H\\boldsymbol{A}=\\boldsymbol{I}$<br>\n",
    "が成り立つような行列のことをユニタリ行列という．<br><br>\n",
    "ユニタリ行列の列ベクトルは正規直交性を持つ．"
   ]
  },
  {
   "cell_type": "markdown",
   "metadata": {
    "slideshow": {
     "slide_type": "subslide"
    }
   },
   "source": [
    "正規直交展開の展開係数 $c_i =\\langle\\boldsymbol{x},\\boldsymbol{u}_i\\rangle=\\boldsymbol{u}_i^H\\boldsymbol{x}$ を並べたベクトルを考えると，\n",
    "$$\\boldsymbol{c}=\\left[\\begin{array}{c}\\boldsymbol{u}_1^H\\boldsymbol{x}\\\\\\boldsymbol{u_2}^H\\boldsymbol{x} \\\\ \\vdots \\\\ \\boldsymbol{u}_N^H\\boldsymbol{x}\\end{array} \\right]=[\\boldsymbol{u}_1,\\boldsymbol{u}_2,\\cdots,\\boldsymbol{u}_N]^H\\boldsymbol{x} = \\boldsymbol{U}^H\\boldsymbol{x}$$\n",
    "のように表せる．この時 $\\boldsymbol{U}$ は正規直交基底が列ベクトルとなっている行列である．<br>\n",
    "つまり $\\boldsymbol{U}$ の列ベクトルが正規直交性をもつので，$\\boldsymbol{U}$ はユニタリ行列である．<br><br>\n",
    "ノルムについて考えると，<br>\n",
    "$\\|\\boldsymbol{c}\\|^2= \\|\\boldsymbol{U^Hx}\\|^2=\\|\\boldsymbol{x}\\|^2$<br>\n",
    "となっていることから，ユニタリ行列は<strong>ノルム変えない</strong>性質を持つ．\n"
   ]
  },
  {
   "cell_type": "markdown",
   "metadata": {
    "slideshow": {
     "slide_type": "subslide"
    }
   },
   "source": [
    "## 実装課題 4<br>\n",
    "ユニタリ行列かどうか判定する関数を実装"
   ]
  },
  {
   "cell_type": "markdown",
   "metadata": {
    "slideshow": {
     "slide_type": "fragment"
    }
   },
   "source": [
    "判別方法\n",
    "\n",
    "1. $\\boldsymbol{A}^{-1}=\\boldsymbol{A}^H$ （逆行列とエルミート転置が一致する）\n",
    "1. $\\boldsymbol{A}\\boldsymbol{A}^H=\\boldsymbol{A}^H\\boldsymbol{A}=\\boldsymbol{I}$ （逆行列とエルミート転置の積が単位行列になる）\n",
    "\n"
   ]
  },
  {
   "cell_type": "markdown",
   "metadata": {
    "slideshow": {
     "slide_type": "fragment"
    }
   },
   "source": [
    "&rArr; 2番の方法を採用"
   ]
  },
  {
   "cell_type": "markdown",
   "metadata": {
    "slideshow": {
     "slide_type": "subslide"
    }
   },
   "source": [
    "## 関数の動作<br>\n",
    "\n",
    "1. 行列を入力\n",
    "1. 入力された行列のエルミート転置を取得\n",
    "1. 行列とそのエルミート転置の積を計算\n",
    "1. 用意しておいた単位行列と積が等しいか判別\n"
   ]
  },
  {
   "cell_type": "code",
   "execution_count": 53,
   "metadata": {
    "slideshow": {
     "slide_type": "subslide"
    }
   },
   "outputs": [],
   "source": [
    "def unitary_matrix(matrix):\n",
    "    \n",
    "    uni = np.array(matrix)\n",
    "    her_mat = np.conjugate(uni.T)\n",
    "    ide_mat = np.dot(uni, her_mat)\n",
    "    ide_mat2 = np.identity(len(uni))\n",
    "\n",
    "    for i in range(len(uni)):\n",
    "        for j in range(len(uni)):\n",
    "            if not round(ide_mat[i][j] - ide_mat2[i][j], 7) == 0:\n",
    "                unitary = False\n",
    "            else:\n",
    "                unitary = True\n",
    "    return unitary"
   ]
  },
  {
   "cell_type": "code",
   "execution_count": 54,
   "metadata": {
    "slideshow": {
     "slide_type": "subslide"
    }
   },
   "outputs": [
    {
     "name": "stdout",
     "output_type": "stream",
     "text": [
      "True\n",
      "False\n"
     ]
    }
   ],
   "source": [
    "mat = (1/math.sqrt(2)) * np.array([[1,1],[-1j,1j]])\n",
    "print(unitary_matrix(mat))\n",
    "mat2 = np.array([[1,1],[-1j,1j]])\n",
    "print(unitary_matrix(mat2))"
   ]
  },
  {
   "cell_type": "markdown",
   "metadata": {
    "slideshow": {
     "slide_type": "slide"
    }
   },
   "source": [
    "## グラム・シュミットの正規直交化<br>\n",
    "直交ではない基底から，正規直交基底を生成する方法のこと．<br>\n",
    "以下の手順により，直交しているとは限らない基底 $\\{\\boldsymbol{u}_i\\}_{i=1}^N$ から 正規直交基底 $\\{\\boldsymbol{v}_i\\}_{i=1}^N$ を得ることができる．\n",
    "\n",
    "<ol style=\"list-style-type: upper-latin\">\n",
    "    <li>$\\begin{align*}&\\boldsymbol{v_1}=\\frac{\\boldsymbol{u_1}}{\\|u_1\\|}\\end{align*}$</li>\n",
    "    <li>$i=2,3,\\cdots,N$に対し以下の操作を繰り返す\n",
    "        <ol style=\"list-style-type: lower-latin\">\n",
    "    <li>$\\begin{align*}&\\hat{\\boldsymbol{u_i}}= \\sum_{j=1}^{i-1}\\langle\\boldsymbol{u_i},\\boldsymbol{v_j}\\rangle\\boldsymbol{v_j}\\end{align*}$ </li>\n",
    "    <li>$\\begin{align*}&\\boldsymbol{v_i} = \\frac{\\boldsymbol{u_i}-\\hat{\\boldsymbol{u_i}}}{\\|\\boldsymbol{u_i}-\\hat{\\boldsymbol{u_i}}\\|}\\end{align*}$</li></ol></li>\n",
    "</ol>"
   ]
  },
  {
   "cell_type": "markdown",
   "metadata": {
    "slideshow": {
     "slide_type": "subslide"
    }
   },
   "source": [
    "## 実装課題 5<br>\n",
    "基底をグラム・シュミットの正規直交化する関数を実装"
   ]
  },
  {
   "cell_type": "markdown",
   "metadata": {
    "slideshow": {
     "slide_type": "subslide"
    }
   },
   "source": [
    "## 関数の動作\n",
    "\n",
    "1. 正規直交化したい基底を並べた行列を入力\n",
    "1. 直交化の手順 A のとおりに 1 本目の基底を計算\n",
    "1. $i=2,3,\\cdots,N$に対し for 文を回すことで直交化手順 B の a と b を計算し残りの基底を計算\n"
   ]
  },
  {
   "cell_type": "code",
   "execution_count": 55,
   "metadata": {
    "slideshow": {
     "slide_type": "subslide"
    }
   },
   "outputs": [],
   "source": [
    "def Gram_Schmidt_orthonormalization(matrix):\n",
    "    # numpy基底行列matrix_u\n",
    "    matrix_u = np.array(matrix)\n",
    "    u_len = len(matrix_u)\n",
    "\n",
    "    for i in range(u_len):\n",
    "        is_norm_zero = n_norm(matrix_u[:, i])\n",
    "        if is_norm_zero == 0:\n",
    "            raise ZeroDivisionError(\"ノルムが0です\")\n",
    "        else:\n",
    "            pass\n",
    "\n",
    "    # 第一手順\n",
    "    u0 = np.array(matrix_u[:, 0]).reshape(-1, 1)  # 一つ目の基底を縦ベクトルで取得\n",
    "    v0 = u0/(n_norm(u0))\n",
    "    matrix_v = np.array(v0).reshape(-1, 1)\n",
    "\n",
    "    # 第二手順\n",
    "    for i in range(1, u_len):\n",
    "        ui = np.array(matrix_u[:, i]).reshape(-1, 1)\n",
    "        u_ = np.zeros((u_len, 1))\n",
    "        for j in range(i):\n",
    "            vj = np.array(matrix_v[:, j]).reshape(-1, 1)\n",
    "            u_ = u_ + euclidean_inner_product(ui, vj).ip * vj\n",
    "        vi = (ui - u_) / (n_norm((ui - u_)))\n",
    "        matrix_v = np.hstack((matrix_v, vi))\n",
    "    return matrix_v"
   ]
  },
  {
   "cell_type": "code",
   "execution_count": 56,
   "metadata": {
    "slideshow": {
     "slide_type": "subslide"
    }
   },
   "outputs": [
    {
     "name": "stdout",
     "output_type": "stream",
     "text": [
      "[[ 0.57735027  0.15430335 -0.80178373]\n",
      " [ 0.57735027 -0.77151675  0.26726124]\n",
      " [ 0.57735027  0.6172134   0.53452248]]\n"
     ]
    }
   ],
   "source": [
    "u = np.array([[1,1,1],[1,-1,2],[-1,1,3]]).T\n",
    "print(Gram_Schmidt_orthonormalization(u))\n"
   ]
  },
  {
   "cell_type": "markdown",
   "metadata": {
    "slideshow": {
     "slide_type": "slide"
    }
   },
   "source": [
    "## 正射影<br>\n",
    "N次元空間 $V$ に，ある部分空間 $W$ を定義したとき，任意の $\\boldsymbol{x}\\in{V}$ に対して<br>\n",
    "$\\begin{align*}&\\langle\\boldsymbol{y},\\boldsymbol{x-y}\\rangle=0\\end{align*}$<br>\n",
    "となるような $\\boldsymbol{y}\\in{W}$ を，$x$の$W$への<strong>正射影（直交射影）</strong>という．"
   ]
  },
  {
   "cell_type": "markdown",
   "metadata": {
    "slideshow": {
     "slide_type": "subslide"
    }
   },
   "source": [
    "$V$ の基底 $\\{\\boldsymbol{u}_i\\}_{i=1}^N$ が正規直交性を満たすとき，部分空間 $W$ に対する $\\boldsymbol{x}$ の正射影を特に $\\boldsymbol{P}_w\\boldsymbol{x}$ と表記し，以下のように表すことができる．<br>\n",
    "$$\\boldsymbol{P}_w\\boldsymbol{x}=\\sum_{i=1}^{r}\\langle\\boldsymbol{x},\\boldsymbol{u_i}\\rangle\\boldsymbol{u_i}=\\left(\\sum_{i=1}^{r}\\boldsymbol{u_i}\\boldsymbol{u_i}^H \\right)\\boldsymbol{x}$$"
   ]
  },
  {
   "cell_type": "markdown",
   "metadata": {
    "slideshow": {
     "slide_type": "subslide"
    }
   },
   "source": [
    "## 実装課題 6<br>\n",
    "正射影を求める関数を実装"
   ]
  },
  {
   "cell_type": "markdown",
   "metadata": {
    "slideshow": {
     "slide_type": "subslide"
    }
   },
   "source": [
    "## 関数の動作<br>\n",
    "\n",
    "1. 基底を並べた行列と射影したいベクトルを入力する．\n",
    "1. 1つ目の基底ベクトルと射影したいベクトルの内積を計算し，1つ目の基底ベクトルをその値でスカラ倍する．\n",
    "1. 2つ目の基底ベクトルについても同様に行い，1つ目の結果とのベクトル和をとる．\n",
    "1. それ以降も同様にして，基底ベクトルを内積でスカラ倍したものの総和をとる．\n",
    "1. ベクトルが総和されたものを出力する．\n"
   ]
  },
  {
   "cell_type": "code",
   "execution_count": 57,
   "metadata": {
    "slideshow": {
     "slide_type": "subslide"
    }
   },
   "outputs": [],
   "source": [
    "def orthogonal_projection(matrix, vector):\n",
    "    x = np.array(vector).reshape(-1, 1)\n",
    "    matrix_u = np.array(matrix)\n",
    "    u_len = len(matrix_u)\n",
    "    pwx = np.zeros((u_len, 1))\n",
    "\n",
    "    for i in range(u_len):\n",
    "        ui = np.array(matrix_u[:, i]).reshape(-1, 1)\n",
    "        pwx = pwx + euclidean_inner_product(x, ui).ip * ui\n",
    "    return pwx"
   ]
  },
  {
   "cell_type": "code",
   "execution_count": 58,
   "metadata": {
    "slideshow": {
     "slide_type": "fragment"
    }
   },
   "outputs": [
    {
     "name": "stdout",
     "output_type": "stream",
     "text": [
      "[[ 2.5]\n",
      " [ 2. ]\n",
      " [-1.5]]\n"
     ]
    }
   ],
   "source": [
    "x6 = [[2], [3], [-1]]\n",
    "Pw = [[5/6, 1/3, 1/6], [1/3, 1/3, -1/3], [1/6, -1/3, 5/6]]\n",
    "print(orthogonal_projection(Pw, x6))"
   ]
  },
  {
   "cell_type": "markdown",
   "metadata": {
    "slideshow": {
     "slide_type": "slide"
    }
   },
   "source": [
    "## まとめ<br>\n",
    "\n",
    "- ユークリッド内積や正規直交性について理解した\n",
    "- Jupyter Notebook の使い方について理解した\n",
    "    - OS の差を意識することなく使えた\n",
    "    - RISE でのスライドづくりは Keynote,Powerpoint に比べて手間がかかった\n",
    "- 例外処理の実装が難しかった"
   ]
  }
 ],
 "metadata": {
  "celltoolbar": "Slideshow",
  "kernelspec": {
   "display_name": "Python 3",
   "language": "python",
   "name": "python3"
  },
  "language_info": {
   "codemirror_mode": {
    "name": "ipython",
    "version": 3
   },
   "file_extension": ".py",
   "mimetype": "text/x-python",
   "name": "python",
   "nbconvert_exporter": "python",
   "pygments_lexer": "ipython3",
   "version": "3.7.7"
  }
 },
 "nbformat": 4,
 "nbformat_minor": 4
}

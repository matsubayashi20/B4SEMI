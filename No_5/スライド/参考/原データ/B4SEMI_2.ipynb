{
 "cells": [
  {
   "cell_type": "markdown",
   "metadata": {
    "slideshow": {
     "slide_type": "slide"
    }
   },
   "source": [
    "# B4 本読み第 4 回 \n",
    "## 基底と部分空間<br>\n",
    " テスト担当：大畑 昌輝，実装担当：伊藤 秀真"
   ]
  },
  {
   "cell_type": "markdown",
   "metadata": {
    "slideshow": {
     "slide_type": "slide"
    }
   },
   "source": [
    "# 目次\n",
    "- jupyter notebook\n",
    "- 目的\n",
    "- テスト環境\n",
    "- 実装課題\n",
    "- 線形独立と線形従属\n",
    "- 課題の仕様とテスト結果\n",
    "- まとめ"
   ]
  },
  {
   "cell_type": "markdown",
   "metadata": {
    "slideshow": {
     "slide_type": "slide"
    }
   },
   "source": [
    "# jupyter notebook\n",
    "- コード，および説明テキストを含むドキュメントを作成<br>および共有できるオープンソースのWebアプリケーション\n",
    "- 対応している言語はPythonの他にも40種類以上\n",
    "- RISEというアドオンを使うことでスライドを作ることもできる．\n"
   ]
  },
  {
   "cell_type": "markdown",
   "metadata": {
    "slideshow": {
     "slide_type": "slide"
    }
   },
   "source": [
    "# 目的\n",
    "- jupyter notebookの使い方を理解する．\n",
    "- 本の内容を理解する．\n",
    "- 指定された実装課題を様々なパターンでテストする．"
   ]
  },
  {
   "cell_type": "markdown",
   "metadata": {
    "slideshow": {
     "slide_type": "fragment"
    }
   },
   "source": [
    "# テスト環境\n",
    "- OS:Windows10 Home\n",
    "- コードの開発環境:jupyter notebook(Python3.7.4)"
   ]
  },
  {
   "cell_type": "markdown",
   "metadata": {
    "slideshow": {
     "slide_type": "slide"
    }
   },
   "source": [
    "# 実装課題\n",
    "- $M\\times 1$ の列ベクトルが，$M\\times N$ 行列の列空間に含まれるか判定する関数を実装\n",
    "- $M\\times N$ 行列の列ベクトルが線型独立かどうか判定する関数を実装"
   ]
  },
  {
   "cell_type": "markdown",
   "metadata": {
    "slideshow": {
     "slide_type": "slide"
    }
   },
   "source": [
    "## 線形独立と線形従属\n",
    "ベクトル空間 $V$ の $N$ 個の要素 $u_1,u_2,\\dots,u_N\\in{V}$，<br>スカラ $c_i,i=1,\\dots,N$ に対して，<br><br>\n",
    "$c_1u_1+c_2u_2+\\dots+c_Nu_N= 0$ <br><br>\n",
    "となる必要十分条件が $c_1=c_2=\\dots c_N=0$ であるとき，$u_1,u_2,\\dots,u_N$ は線形独立といい，そうでない場合は一次従属であると言う．\n",
    "    "
   ]
  },
  {
   "cell_type": "markdown",
   "metadata": {
    "slideshow": {
     "slide_type": "slide"
    }
   },
   "source": [
    "## 1. $A\\in{\\mathbb{C}^{M \\times 1}}$ が$M\\times N$行列の列空間に含まれるか判定する関数の仕様①\n",
    "\n",
    "- ランク $\\Longleftrightarrow$ 線形独立な列ベクトル又は行ベクトルの最大本数\n",
    "- $A$ が$M\\times N$ 行列の列空間に含まれる $\\Longleftrightarrow$ $M \\times N$行列の<br>線形独立な列ベクトルの個数$\\ge$$A$の 0 でない要素の数\n",
    "<br><br>\n",
    "以上の2点から，$M\\times N$行列を$B$ とすると $Rank(B)\\ge A$の<br>非零の要素数の時，行列$A$ は$M\\times N$ の列空間に含まれる．\n",
    "\n"
   ]
  },
  {
   "cell_type": "markdown",
   "metadata": {
    "slideshow": {
     "slide_type": "slide"
    }
   },
   "source": [
    "## 1. $A\\in{\\mathbb{C}^{M \\times 1}}$ が$M\\times N$行列の列空間に含まれるか判定する関数の仕様②\n",
    "### 実装手順\n",
    "- 与えられた$M\\times N$行列の行基本変形を繰り返し，階段行列を作る．\n",
    "- 階段行列のすべて 0 でない行の数をカウントし，ランクを求める．\n",
    "- そのランクが$A$ の非零の要素数以上の場合，True を返し，それ以外は False を返す．"
   ]
  },
  {
   "cell_type": "markdown",
   "metadata": {
    "slideshow": {
     "slide_type": "slide"
    }
   },
   "source": [
    "### 1.1 テストケース①<br>（正方行列，列空間に含まれる場合）\n",
    "$M=N=3$ の正方行列<br>\n",
    "以降，$\\mathbb{C}^{M \\times 1}$に属する行列を $A$，$M\\times N$行列を $B$ とする．<br>\n",
    "$A=\\left(\\begin{array}{cc} 1 \\\\ 1 \\\\ -3 \\\\ \\end{array} \\right) ,B= \\left(\\begin{array}{cc} 1 & 1 & -3 \\\\ -1 & 3 & 5 \\\\ 0 & 3 & 6 \\\\ \\end{array} \\right)$<br><br>$　 \\Longrightarrow　rank(B)=$$A$ の非零の要素数 =3\n",
    "<br><br>\n",
    "予期される出力は True"
   ]
  },
  {
   "cell_type": "code",
   "execution_count": 15,
   "metadata": {
    "slideshow": {
     "slide_type": "subslide"
    }
   },
   "outputs": [],
   "source": [
    "import unittest\n",
    "import numpy as np\n",
    "from culumn_space import column_space"
   ]
  },
  {
   "cell_type": "code",
   "execution_count": 16,
   "metadata": {
    "slideshow": {
     "slide_type": "subslide"
    }
   },
   "outputs": [
    {
     "name": "stderr",
     "output_type": "stream",
     "text": [
      "."
     ]
    },
    {
     "name": "stdout",
     "output_type": "stream",
     "text": [
      "[[ 1.  1. -3.]\n",
      " [ 0.  4.  2.]\n",
      " [ 0.  3.  6.]]\n",
      "→\n",
      "[[ 1.  1. -3.]\n",
      " [ 0.  4.  2.]\n",
      " [ 0.  3.  6.]]\n",
      "→\n",
      "[[ 1.   1.  -3. ]\n",
      " [ 0.   4.   2. ]\n",
      " [ 0.   0.   4.5]]\n",
      "→\n"
     ]
    },
    {
     "name": "stderr",
     "output_type": "stream",
     "text": [
      "\n",
      "----------------------------------------------------------------------\n",
      "Ran 1 test in 0.002s\n",
      "\n",
      "OK\n"
     ]
    }
   ],
   "source": [
    "class Testlinearly(unittest.TestCase):\n",
    "    def test_linearly(self):\n",
    "        A=np.array([[1],[1],[-3]])\n",
    "        B=np.array([[1,1,-3],[-1,3,5],[0,3,6]],dtype=\"float64\")\n",
    "        actual = column_space(A,B,1)\n",
    "        self.assertTrue(actual)\n",
    "        \n",
    "if __name__ == '__main__': unittest.main(argv=['first-arg-is-ignored'], exit=False)"
   ]
  },
  {
   "cell_type": "markdown",
   "metadata": {
    "slideshow": {
     "slide_type": "slide"
    }
   },
   "source": [
    "### 1.1 テストケース②（横長行列，列空間に含まれる場合）\n",
    "$M=3，N=4$ の行列<br>\n",
    "<br>\n",
    "$A=\\left(\\begin{array}{cc} 0 \\\\ 1 \\\\ 0 \\\\ \\end{array} \\right) ,B= \\left(\\begin{array}{cc} 1 & 2 & -3 & 5 \\\\ 0 & 3 & -3 & 8 \\\\ 2 & 4 & -6 & 10 \\\\ \\end{array} \\right)$　<br><br>　$\\Longrightarrow rank(B)=2 \\ge$$A$ の非零の要素数 =1\n",
    "<br><br>\n",
    "予期される出力は True"
   ]
  },
  {
   "cell_type": "code",
   "execution_count": 4,
   "metadata": {
    "slideshow": {
     "slide_type": "subslide"
    }
   },
   "outputs": [
    {
     "name": "stderr",
     "output_type": "stream",
     "text": [
      "."
     ]
    },
    {
     "name": "stdout",
     "output_type": "stream",
     "text": [
      "[[ 1.  2. -3.  5.]\n",
      " [ 0.  3. -3.  8.]\n",
      " [ 2.  4. -6. 10.]]\n",
      "→\n",
      "[[ 1.  2. -3.  5.]\n",
      " [ 0.  3. -3.  8.]\n",
      " [ 0.  0.  0.  0.]]\n",
      "→\n",
      "[[ 1.  2. -3.  5.]\n",
      " [ 0.  3. -3.  8.]\n",
      " [ 0.  0.  0.  0.]]\n",
      "→\n"
     ]
    },
    {
     "name": "stderr",
     "output_type": "stream",
     "text": [
      "\n",
      "----------------------------------------------------------------------\n",
      "Ran 1 test in 0.007s\n",
      "\n",
      "OK\n"
     ]
    }
   ],
   "source": [
    "class Testlinearly(unittest.TestCase):\n",
    "    def test_linearly(self):\n",
    "        A=np.array([[0],[1],[0]])\n",
    "        B=np.array([[1,2,-3,5],[0,3,-3,8],[2,4,-6,10]],dtype=\"float64\")\n",
    "        actual = column_space(A,B,1)\n",
    "        self.assertTrue(actual)\n",
    "        \n",
    "if __name__ == '__main__': unittest.main(argv=['first-arg-is-ignored'], exit=False)"
   ]
  },
  {
   "cell_type": "markdown",
   "metadata": {
    "slideshow": {
     "slide_type": "slide"
    }
   },
   "source": [
    "### 1.1 テストケース③（その他，列空間に含まれる場合）\n",
    "- $3\\times 2$，$3\\times 3$，$3\\times 4$ の場合において float 型，complex 型についても調べた．\n",
    "- $4\\times 3$，$4\\times 4$，$4\\times 5$ の場合についても同様に調べた．\n",
    "\n",
    "$\\Rightarrow$ すべてのパターンにおいて結果が一致した．"
   ]
  },
  {
   "cell_type": "markdown",
   "metadata": {
    "slideshow": {
     "slide_type": "slide"
    }
   },
   "source": [
    "### 1.2 テストケース①（正方行列，列空間に含まれない場合）\n",
    "$M=N=3$ の正方行列<br>\n",
    "<br>\n",
    "$A=\\left(\\begin{array}{cc} 1 \\\\ 1 \\\\ -3 \\\\ \\end{array} \\right) ,B= \\left(\\begin{array}{cc} 1 & 1 & -3 \\\\ -1 & 3 & 5 \\\\ 3 & 3 & -9 \\\\ \\end{array} \\right) $<br><br>$　\\Longrightarrow rank(B) =2 <$$A$ の非零の要素数 =3\n",
    "<br><br>\n",
    "予期される出力は False"
   ]
  },
  {
   "cell_type": "code",
   "execution_count": 5,
   "metadata": {
    "slideshow": {
     "slide_type": "subslide"
    }
   },
   "outputs": [
    {
     "name": "stderr",
     "output_type": "stream",
     "text": [
      "."
     ]
    },
    {
     "name": "stdout",
     "output_type": "stream",
     "text": [
      "[[ 1.  1. -3.]\n",
      " [ 0.  4.  2.]\n",
      " [ 3.  3. -9.]]\n",
      "→\n",
      "[[ 1.  1. -3.]\n",
      " [ 0.  4.  2.]\n",
      " [ 0.  0.  0.]]\n",
      "→\n",
      "[[ 1.  1. -3.]\n",
      " [ 0.  4.  2.]\n",
      " [ 0.  0.  0.]]\n",
      "→\n"
     ]
    },
    {
     "name": "stderr",
     "output_type": "stream",
     "text": [
      "\n",
      "----------------------------------------------------------------------\n",
      "Ran 1 test in 0.005s\n",
      "\n",
      "OK\n"
     ]
    }
   ],
   "source": [
    "class Testlinearly(unittest.TestCase):\n",
    "    def test_linearly(self):\n",
    "        A=np.array([[1],[1],[-3]])\n",
    "        B=np.array([[1,1,-3],[-1,3,5],[3,3,-9]],dtype=\"float64\")\n",
    "        actual = column_space(A,B,1)\n",
    "        self.assertFalse(actual)\n",
    "        \n",
    "if __name__ == '__main__': unittest.main(argv=['first-arg-is-ignored'], exit=False)"
   ]
  },
  {
   "cell_type": "markdown",
   "metadata": {
    "slideshow": {
     "slide_type": "slide"
    }
   },
   "source": [
    "### 1.2 テストケース②（縦長行列，列空間に含まれない場合）\n",
    "$M=4，N=3$ の行列<br>\n",
    "<br>\n",
    "$A=\\left(\\begin{array}{cc} 1 \\\\ 1 \\\\ -3 \\\\ 2 \\\\\\end{array} \\right) ,B= \\left(\\begin{array}{cc} 1 & 1 & -3 \\\\ -1 & 3 & 5\\\\ 5 & 7 & -3 \\\\ 3 & 3 & -9 \\\\ \\end{array} \\right)$<br><br>$　\\Longrightarrow　rank(B)=$3$<$$A$ の非零の要素数 $=4$\n",
    "<br><br>\n",
    "予期される出力は False"
   ]
  },
  {
   "cell_type": "code",
   "execution_count": 6,
   "metadata": {
    "slideshow": {
     "slide_type": "subslide"
    }
   },
   "outputs": [
    {
     "name": "stderr",
     "output_type": "stream",
     "text": [
      ".\n",
      "----------------------------------------------------------------------\n",
      "Ran 1 test in 0.004s\n",
      "\n",
      "OK\n"
     ]
    }
   ],
   "source": [
    "class Testlinearly(unittest.TestCase):\n",
    "    def test_linearly(self):\n",
    "        A=np.array([[1],[1],[-3],[2]])\n",
    "        B=np.array([[1,1,-3],[-1,3,5],[5,7,-3],[3,3,-9]],dtype=\"float64\")\n",
    "        actual = column_space(A,B)\n",
    "        self.assertFalse(actual)\n",
    "        \n",
    "if __name__ == '__main__': unittest.main(argv=['first-arg-is-ignored'], exit=False)"
   ]
  },
  {
   "cell_type": "markdown",
   "metadata": {
    "slideshow": {
     "slide_type": "slide"
    }
   },
   "source": [
    "### 1.2 テストケース③（その他の列空間に含まれない場合）\n",
    "- $3\\times 2$，$3\\times 3$，$3\\times 4$ の場合において float 型，complex 型についても調べた．\n",
    "- $4\\times 3$, $4\\times 4$，$4\\times 5$ の場合についても同様に調べた．\n",
    "\n",
    "$\\Rightarrow$ すべてのパターンにおいて結果が一致した．"
   ]
  },
  {
   "cell_type": "markdown",
   "metadata": {
    "slideshow": {
     "slide_type": "slide"
    }
   },
   "source": [
    "### 2.$M\\times N$ の行列の列ベクトルが線型独立かどうか判定する関数の仕様\n",
    "ランクは 1 次独立な列ベクトルの最大本数であるため，\n",
    "$A\\in{\\mathbb{C}^{M \\times N}}$ について，$Rank(A)=N$ であるとき，$A$の列ベクトルはすべて線形独立である．\n",
    "### 実装手順\n",
    "- 入力行列の行数と列数をチェックし，$M<N$の時ランクが$N$にならないため False を返す．\n",
    "- 与えられた行列の行基本変形を繰り返し，階段行列を作る．\n",
    "- 階段行列のすべて 0 でない行の数をカウントしランクを求める．\n",
    "- $Rank(A)=N$の場合は True，異なる場合は False を返す．"
   ]
  },
  {
   "cell_type": "markdown",
   "metadata": {
    "slideshow": {
     "slide_type": "slide"
    }
   },
   "source": [
    "### 2.1 テストケース①（正方行列，線形独立の場合）\n",
    "$M=N=3$ の正方行列<br>\n",
    "$\\left(\\begin{array}{cc} 1 & 1 & -3 \\\\ -1 & 3 & 5 \\\\ 0 & 3 & 6\\\\ \\end{array} \\right) \\to \\left(\\begin{array}{cc} 1 & 1 & -3 \\\\ 0 & 2 & 1 \\\\ 0 & 0 & \\frac{9}{2} \\\\ \\end{array} \\right) $<br>$\\Longrightarrow rank=N=3 \\Longleftrightarrow $線形独立 <br>\n",
    "<br>\n",
    "予期される出力は True"
   ]
  },
  {
   "cell_type": "code",
   "execution_count": 8,
   "metadata": {
    "slideshow": {
     "slide_type": "subslide"
    }
   },
   "outputs": [],
   "source": [
    "from linearly_check import linearly_independent"
   ]
  },
  {
   "cell_type": "code",
   "execution_count": 9,
   "metadata": {
    "slideshow": {
     "slide_type": "subslide"
    }
   },
   "outputs": [
    {
     "name": "stderr",
     "output_type": "stream",
     "text": [
      "."
     ]
    },
    {
     "name": "stdout",
     "output_type": "stream",
     "text": [
      "[[ 1.  1. -3.]\n",
      " [-1.  3.  5.]\n",
      " [ 0.  3.  6.]]\n",
      "→\n",
      "[[ 1.  1. -3.]\n",
      " [ 0.  4.  2.]\n",
      " [ 0.  3.  6.]]\n",
      "→\n",
      "[[ 1.  1. -3.]\n",
      " [ 0.  4.  2.]\n",
      " [ 0.  3.  6.]]\n",
      "→\n",
      "[[ 1.   1.  -3. ]\n",
      " [ 0.   4.   2. ]\n",
      " [ 0.   0.   4.5]]\n",
      "→\n"
     ]
    },
    {
     "name": "stderr",
     "output_type": "stream",
     "text": [
      "\n",
      "----------------------------------------------------------------------\n",
      "Ran 1 test in 0.006s\n",
      "\n",
      "OK\n"
     ]
    }
   ],
   "source": [
    "class Testlinearly(unittest.TestCase):\n",
    "    def test_linearly(self):\n",
    "        A=np.array([[1,1,-3],[-1,3,5],[0,3,6]],dtype=\"float64\")\n",
    "        actual = linearly_independent(A)\n",
    "        self.assertTrue(actual)\n",
    "        \n",
    "if __name__ == '__main__': unittest.main(argv=['first-arg-is-ignored'], exit=False)"
   ]
  },
  {
   "cell_type": "markdown",
   "metadata": {
    "slideshow": {
     "slide_type": "slide"
    }
   },
   "source": [
    "### 2.1 テストケース②（縦長行列，線形独立の場合）\n",
    "$M>N$の行列<br>\n",
    "$\\left(\\begin{array}{cc} 1 & 1 \\\\ -1 & 3 \\\\ 0 & 3 \\\\ \\end{array} \\right) \\to \\left(\\begin{array}{cc} 1 & 1 \\\\ 0 & 4 \\\\ 0 & 0 \\\\ \\end{array} \\right) $<br>$\\Longrightarrow rank=N=2 \\Longleftrightarrow $線形独立 <br>\n",
    "<br>\n",
    "予期される出力は True"
   ]
  },
  {
   "cell_type": "code",
   "execution_count": 10,
   "metadata": {
    "slideshow": {
     "slide_type": "subslide"
    }
   },
   "outputs": [
    {
     "name": "stderr",
     "output_type": "stream",
     "text": [
      "."
     ]
    },
    {
     "name": "stdout",
     "output_type": "stream",
     "text": [
      "[[ 1.  1.]\n",
      " [-1.  3.]\n",
      " [ 0.  3.]]\n",
      "→\n",
      "[[1. 1.]\n",
      " [0. 4.]\n",
      " [0. 3.]]\n",
      "→\n",
      "[[1. 1.]\n",
      " [0. 4.]\n",
      " [0. 3.]]\n",
      "→\n",
      "[[1. 1.]\n",
      " [0. 4.]\n",
      " [0. 0.]]\n",
      "→\n"
     ]
    },
    {
     "name": "stderr",
     "output_type": "stream",
     "text": [
      "\n",
      "----------------------------------------------------------------------\n",
      "Ran 1 test in 0.006s\n",
      "\n",
      "OK\n"
     ]
    }
   ],
   "source": [
    "class Testlinearly(unittest.TestCase):\n",
    "    def test_linearly(self):\n",
    "        A=np.array([[1,1],[-1,3],[0,3]],dtype=\"float64\")\n",
    "        actual = linearly_independent(A)\n",
    "        self.assertTrue(actual)\n",
    "        \n",
    "if __name__ == '__main__': unittest.main(argv=['first-arg-is-ignored'], exit=False)"
   ]
  },
  {
   "cell_type": "markdown",
   "metadata": {
    "slideshow": {
     "slide_type": "slide"
    }
   },
   "source": [
    "### 2.1 テストケース③（その他，線形独立の場合）\n",
    "- $3\\times 3$，$3\\times 2$の場合において float 型，complex 型についても調べた．\n",
    "- $2\\times 2$，$4\\times 3$についても同様に調べた．\n",
    "\n",
    "$\\Rightarrow$ すべてのパターンにおいて結果が一致した．"
   ]
  },
  {
   "cell_type": "markdown",
   "metadata": {
    "slideshow": {
     "slide_type": "slide"
    }
   },
   "source": [
    "### 2.2 テストケース①（正方行列，線形従属の場合）\n",
    "$M=N$の正方行列<br>\n",
    "$\\left(\\begin{array}{cc} 1 & 1 & -3 \\\\ -1 & 0 & 5 \\\\ 0 & 3 & 6\\\\ \\end{array} \\right) \\to \\left(\\begin{array}{cc} 1 & 1 & -3 \\\\ 0 & 1 & 2 \\\\ 0 & 0 & 0\\\\ \\end{array} \\right) $<br>$\\Longrightarrow rank=2\\neq N \\Longrightarrow $線形従属<br>\n",
    "<br>\n",
    "予期される出力は False"
   ]
  },
  {
   "cell_type": "code",
   "execution_count": 11,
   "metadata": {
    "slideshow": {
     "slide_type": "subslide"
    }
   },
   "outputs": [
    {
     "name": "stderr",
     "output_type": "stream",
     "text": [
      "."
     ]
    },
    {
     "name": "stdout",
     "output_type": "stream",
     "text": [
      "[[ 1.  1. -3.]\n",
      " [-1.  0.  5.]\n",
      " [ 0.  3.  6.]]\n",
      "→\n",
      "[[ 1.  1. -3.]\n",
      " [ 0.  1.  2.]\n",
      " [ 0.  3.  6.]]\n",
      "→\n",
      "[[ 1.  1. -3.]\n",
      " [ 0.  1.  2.]\n",
      " [ 0.  3.  6.]]\n",
      "→\n",
      "[[ 1.  1. -3.]\n",
      " [ 0.  1.  2.]\n",
      " [ 0.  0.  0.]]\n",
      "→\n"
     ]
    },
    {
     "name": "stderr",
     "output_type": "stream",
     "text": [
      "\n",
      "----------------------------------------------------------------------\n",
      "Ran 1 test in 0.007s\n",
      "\n",
      "OK\n"
     ]
    }
   ],
   "source": [
    "class Testlinearly(unittest.TestCase):\n",
    "    def test_linearly(self):\n",
    "        A=np.array([[1,1,-3],[-1,0,5],[0,3,6]],dtype=\"float64\")\n",
    "        actual = linearly_independent(A)\n",
    "        self.assertFalse(actual)\n",
    "        \n",
    "if __name__ == '__main__': unittest.main(argv=['first-arg-is-ignored'], exit=False)"
   ]
  },
  {
   "cell_type": "markdown",
   "metadata": {
    "slideshow": {
     "slide_type": "slide"
    }
   },
   "source": [
    "### 2.2 テストケース②（横長行列，線形従属の場合）\n",
    "$M<N$の行列<br>\n",
    "$\\left(\\begin{array}{cc} 1 & 1 & -3 \\\\ -1 & 3 & 5\\\\ \\end{array} \\right) \\to \\left(\\begin{array}{cc} 1 & 1 & -3 \\\\ 0 & 2 & 1 \\\\ \\end{array} \\right) $<br>$\\Longrightarrow rank=2\\neq N \\Longrightarrow $線形従属<br>\n",
    "<br>\n",
    "予期される出力は False"
   ]
  },
  {
   "cell_type": "code",
   "execution_count": 12,
   "metadata": {
    "slideshow": {
     "slide_type": "subslide"
    }
   },
   "outputs": [
    {
     "name": "stderr",
     "output_type": "stream",
     "text": [
      ".\n",
      "----------------------------------------------------------------------\n",
      "Ran 1 test in 0.002s\n",
      "\n",
      "OK\n"
     ]
    }
   ],
   "source": [
    "class Testlinearly(unittest.TestCase):\n",
    "    def test_linearly(self):\n",
    "        A=np.array([[1,1,-3],[-1,0,5]],dtype=\"float64\")\n",
    "        actual = linearly_independent(A)\n",
    "        self.assertFalse(actual)\n",
    "        \n",
    "if __name__ == '__main__': unittest.main(argv=['first-arg-is-ignored'], exit=False)"
   ]
  },
  {
   "cell_type": "markdown",
   "metadata": {
    "slideshow": {
     "slide_type": "slide"
    }
   },
   "source": [
    "### 2.2 テストケース③（その他，線形従属の場合）\n",
    "- $3\\times 3$，$2\\times 3$の場合において float 型，complex 型についても調べた．\n",
    "- $2\\times 2$，$3\\times 4$についても同様に調べた．\n",
    "\n",
    "$\\Rightarrow$ すべてのパターンにおいて結果が一致した．"
   ]
  },
  {
   "cell_type": "markdown",
   "metadata": {
    "slideshow": {
     "slide_type": "slide"
    }
   },
   "source": [
    "## まとめ\n",
    "- jupyter notebookの使い方を理解できた．\n",
    "- unittestの使い方を理解できた．\n",
    "- 線形独立と線形従属について，さらにランクとの関係性についても理解を深めることができた．\n",
    "- 本の内容を理解することで，信号処理に必要な数学を知ることができた．\n"
   ]
  },
  {
   "cell_type": "markdown",
   "metadata": {
    "slideshow": {
     "slide_type": "slide"
    }
   },
   "source": [
    "### 付録 テストケース（複素数の正方行列，列空間に含まれない場合）\n",
    "$M=N=2$ の正方行列<br>\n",
    "<br>\n",
    "$A=\\left(\\begin{array}{cc} j \\\\ 2 \\\\ \\end{array} \\right) ,B= \\left(\\begin{array}{cc} 1+j & 4j  \\\\ -3-3j & -12j \\\\ \\end{array} \\right) $<br><br>$　\\Longrightarrow rank(B) =1 <$$A$ の非零の要素数 =2\n",
    "<br><br>\n",
    "予期される出力は False"
   ]
  },
  {
   "cell_type": "code",
   "execution_count": 14,
   "metadata": {
    "slideshow": {
     "slide_type": "subslide"
    }
   },
   "outputs": [
    {
     "name": "stderr",
     "output_type": "stream",
     "text": [
      "."
     ]
    },
    {
     "name": "stdout",
     "output_type": "stream",
     "text": [
      "[[1.+1.j 0.+4.j]\n",
      " [0.+0.j 0.+0.j]]\n",
      "→\n"
     ]
    },
    {
     "name": "stderr",
     "output_type": "stream",
     "text": [
      "\n",
      "----------------------------------------------------------------------\n",
      "Ran 1 test in 0.047s\n",
      "\n",
      "OK\n"
     ]
    }
   ],
   "source": [
    "class Testlinearly(unittest.TestCase):\n",
    "    def test_linearly(self):\n",
    "        A=np.array([[1j],[2]])\n",
    "        B=np.array([[1+1j,4j],[-3-3j,-12j]])\n",
    "        actual = column_space(A,B,1)\n",
    "        self.assertFalse(actual)\n",
    "        \n",
    "if __name__ == '__main__': unittest.main(argv=['first-arg-is-ignored'], exit=False)"
   ]
  },
  {
   "cell_type": "markdown",
   "metadata": {
    "slideshow": {
     "slide_type": "slide"
    }
   },
   "source": [
    "### 付録 行基本変形のテスト\n",
    "$M=N=3$ の正方行列<br>\n",
    "$\\left(\\begin{array}{cc} 0 & 3 & 6 \\\\ 1 & 1 & -3 \\\\ -1 & 3 & 5\\\\ \\end{array} \\right) $<br>$\\Longrightarrow rank=N=3 \\Longleftrightarrow $線形独立 <br>\n",
    "<br>\n",
    "予期される出力は True"
   ]
  },
  {
   "cell_type": "code",
   "execution_count": null,
   "metadata": {
    "slideshow": {
     "slide_type": "subslide"
    }
   },
   "outputs": [],
   "source": [
    "class Testlinearly(unittest.TestCase):\n",
    "    def test_linearly(self):\n",
    "        A=np.array([[0,3,6],[1,1,-3],[-1,3,5]],dtype=\"float64\")\n",
    "        actual = linearly_independent(A)\n",
    "        self.assertTrue(actual)\n",
    "        \n",
    "if __name__ == '__main__': unittest.main(argv=['first-arg-is-ignored'], exit=False)"
   ]
  },
  {
   "cell_type": "markdown",
   "metadata": {
    "slideshow": {
     "slide_type": "slide"
    }
   },
   "source": [
    "### 付録 行基本変形のテスト\n",
    "$M=N=3$ の正方行列<br>\n",
    "$\\left(\\begin{array}{cc} 0 & 3 & 6 \\\\ 0& 1 & -3 \\\\ 0 & 3 & 5\\\\ \\end{array} \\right) $"
   ]
  },
  {
   "cell_type": "code",
   "execution_count": 13,
   "metadata": {
    "slideshow": {
     "slide_type": "subslide"
    }
   },
   "outputs": [
    {
     "name": "stderr",
     "output_type": "stream",
     "text": [
      "."
     ]
    },
    {
     "name": "stdout",
     "output_type": "stream",
     "text": [
      "[[ 0.  3.  6.]\n",
      " [ 0.  2. -2.]\n",
      " [ 0.  5.  7.]]\n",
      "→\n",
      "[[ 0.  3.  6.]\n",
      " [ 0.  0. -6.]\n",
      " [ 0.  5.  7.]]\n",
      "→\n",
      "[[ 0.  3.  6.]\n",
      " [ 0.  0.  0.]\n",
      " [ 0.  0. -6.]]\n",
      "→\n"
     ]
    },
    {
     "name": "stderr",
     "output_type": "stream",
     "text": [
      "\n",
      "----------------------------------------------------------------------\n",
      "Ran 1 test in 0.005s\n",
      "\n",
      "OK\n"
     ]
    }
   ],
   "source": [
    "class Testlinearly(unittest.TestCase):\n",
    "    def test_linearly(self):\n",
    "        A=np.array([[0,3,6],[0,2,-2],[0,5,7]],dtype=\"float64\")\n",
    "        actual = linearly_independent(A)\n",
    "        self.assertFalse(actual)\n",
    "        \n",
    "if __name__ == '__main__': unittest.main(argv=['first-arg-is-ignored'], exit=False)"
   ]
  },
  {
   "cell_type": "code",
   "execution_count": 7,
   "metadata": {
    "slideshow": {
     "slide_type": "skip"
    }
   },
   "outputs": [
    {
     "data": {
      "text/html": [
       "<link rel=\"stylesheet\" type=\"text/css\" href=\"SEMIcustom.css\"\n"
      ],
      "text/plain": [
       "<IPython.core.display.HTML object>"
      ]
     },
     "metadata": {},
     "output_type": "display_data"
    }
   ],
   "source": [
    "%%HTML\n",
    "<link rel=\"stylesheet\" type=\"text/css\" href=\"SEMIcustom.css\""
   ]
  },
  {
   "cell_type": "code",
   "execution_count": null,
   "metadata": {
    "slideshow": {
     "slide_type": "skip"
    }
   },
   "outputs": [],
   "source": [
    "#RISEのインストール\n",
    "!pip install RISE\n",
    "!jupyter-nbextension install rise --py --sys-prefix\n",
    "!jupyter-nbextension enable rise --py --sys-prefix"
   ]
  }
 ],
 "metadata": {
  "celltoolbar": "Slideshow",
  "kernelspec": {
   "display_name": "Python 3",
   "language": "python",
   "name": "python3"
  },
  "language_info": {
   "codemirror_mode": {
    "name": "ipython",
    "version": 3
   },
   "file_extension": ".py",
   "mimetype": "text/x-python",
   "name": "python",
   "nbconvert_exporter": "python",
   "pygments_lexer": "ipython3",
   "version": "3.7.4"
  }
 },
 "nbformat": 4,
 "nbformat_minor": 2
}

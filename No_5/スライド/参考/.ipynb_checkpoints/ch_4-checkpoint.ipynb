{
 "cells": [
  {
   "cell_type": "code",
   "execution_count": 1,
   "metadata": {
    "slideshow": {
     "slide_type": "skip"
    }
   },
   "outputs": [
    {
     "data": {
      "text/html": [
       "<link rel=\"stylesheet\" type=\"text/css\" href=\"my_rise2.css\">\n"
      ],
      "text/plain": [
       "<IPython.core.display.HTML object>"
      ]
     },
     "metadata": {},
     "output_type": "display_data"
    }
   ],
   "source": [
    "%%HTML\n",
    "<link rel=\"stylesheet\" type=\"text/css\" href=\"my_rise2.css\">"
   ]
  },
  {
   "cell_type": "markdown",
   "metadata": {
    "slideshow": {
     "slide_type": "slide"
    }
   },
   "source": [
    "# 信号・データ処理のための行列とベクトル\n",
    "# 4 章  基底と部分空間\n",
    "\\\n",
    "2020/5/1\\\n",
    "\\\n",
    "実装担当 伊藤 秀真   ，テスト担当：大畑 昌輝"
   ]
  },
  {
   "cell_type": "markdown",
   "metadata": {
    "slideshow": {
     "slide_type": "subslide"
    }
   },
   "source": [
    "# 目次\n",
    "\\\n",
    "・一次独立と一次従属\\\n",
    "$ \\hspace{30pt} -$ 一次独立の定義\\\n",
    "$ \\hspace{30pt} -$ 課題の実装\\\n",
    "\\\n",
    "・基底の定義\\\n",
    "$ \\hspace{30pt} -$ 標準基底\\\n",
    "\\\n",
    "・部分空間の定義\\\n",
    "$ \\hspace{30pt} -$ 列空間とは\\\n",
    "$ \\hspace{30pt} -$ 課題の実装"
   ]
  },
  {
   "cell_type": "markdown",
   "metadata": {
    "slideshow": {
     "slide_type": "subslide"
    }
   },
   "source": [
    "# 環境\n",
    "\\\n",
    "・Windows10 Home\\\n",
    "\\\n",
    "・Anaconda3 (2020.02)\\\n",
    "\\\n",
    "・Python 3.7.6\\\n",
    "\\\n",
    "・Jupyter Notebook (6.0.3)"
   ]
  },
  {
   "cell_type": "markdown",
   "metadata": {
    "slideshow": {
     "slide_type": "slide"
    }
   },
   "source": [
    "# 一次独立と一次従属\n",
    "\\\n",
    "$\n",
    "\\boldsymbol{x} = \\left[\n",
    "    \\begin{array}{rrr}\n",
    "      2 \\\\\n",
    "      3\n",
    "    \\end{array}\n",
    "  \\right]\\,\n",
    "$を 2 次元座標で表すと，\\\n",
    "<img src = \"line_indep2.png\">"
   ]
  },
  {
   "cell_type": "markdown",
   "metadata": {
    "slideshow": {
     "slide_type": "subslide"
    }
   },
   "source": [
    "# 一次独立の定義\n",
    "\\\n",
    "スカラ $ c_i (i = 1, \\ldots ,N) $ に対して，$ c_1 \\boldsymbol{u}_1+ c_2 \\boldsymbol{u}_2+ \\cdots + c_N \\boldsymbol{u}_N $ を線形結合 といい，\\\n",
    "\\\n",
    "$ \\hspace{70pt} c_1 \\boldsymbol{u}_1+ c_2 \\boldsymbol{u}_2+ \\cdots + c_N \\boldsymbol{u}_N = \\boldsymbol{0}$\n",
    "\\\n",
    "$ \\hspace{100pt} \\Updownarrow $ 必要十分条件 \n",
    "\\\n",
    "$ \\hspace{70pt} c_1 + c_2 + \\cdots + c_N  = 0 $\n",
    "\\\n",
    "\\\n",
    "$ \\hspace{30pt} $ となるとき $ \\boldsymbol{u}_1, \\boldsymbol{u}_2, \\ldots , \\boldsymbol{u}_N $ は，一次独立\n",
    "\\\n",
    "$ \\hspace{33pt} $(あるベクトルが他のベクトルの実数倍や、その和で表せない状態)\n",
    "\\\n",
    "\\\n",
    "$ \\hspace{30pt} $ そうでないときは， 一次従属\n",
    "\\\n",
    "$ \\hspace{33pt} $(あるベクトルが他のベクトルの実数倍や、その和で表せる状態)"
   ]
  },
  {
   "cell_type": "markdown",
   "metadata": {
    "slideshow": {
     "slide_type": "slide"
    }
   },
   "source": [
    "# 課題\n",
    "\\\n",
    "\\\n",
    "M × N 行列の列ベクトルが一次独立かどうか判定する関数を実装"
   ]
  },
  {
   "cell_type": "markdown",
   "metadata": {
    "slideshow": {
     "slide_type": "subslide"
    }
   },
   "source": [
    "# 列ベクトルが一次独立か一次従属かを調べる方法\n",
    "\\\n",
    "列ベクトル $ \\boldsymbol{a}_1, \\boldsymbol{a}_2, \\ldots , \\boldsymbol{a}_r $ が一次独立\n",
    "\\\n",
    "\\\n",
    "$\\Leftrightarrow$ 連立方程式 $\\left[\n",
    "    \\begin{array}{rrr}\n",
    "      \\boldsymbol{a}_1, \\boldsymbol{a}_2, \\ldots , \\boldsymbol{a}_r \n",
    "    \\end{array}\n",
    "  \\right]\\\n",
    "  \\left[\n",
    "    \\begin{array}{ccc}\n",
    "      x_1 \\\\\n",
    "      x_2 \\\\\n",
    "      \\vdots \\\\\n",
    "      x_r\n",
    "    \\end{array}\n",
    "  \\right] = \\boldsymbol{0} $ が自明解しか持たない\n",
    "\\\n",
    "\\\n",
    "$\\Leftrightarrow$ 列ベクトルを横に繋げた行列 \n",
    "$\\left[\n",
    "    \\begin{array}{rrr}\n",
    "      \\boldsymbol{a}_1, \\boldsymbol{a}_2, \\ldots , \\boldsymbol{a}_r \n",
    "    \\end{array}\\right]$ \n",
    "のランク は $r $"
   ]
  },
  {
   "cell_type": "markdown",
   "metadata": {
    "slideshow": {
     "slide_type": "subslide"
    }
   },
   "source": [
    "# 関数の実装\n",
    "\\\n",
    "M × N 行列 のランクが N かどうかを求める\n",
    "\\\n",
    "\\\n",
    "① M < N のとき，ランクは最大 M より，必ず一次従属となる\n",
    "\\\n",
    "② M ≥ N のとき，行基本変形よりランクを求め，ランクが N になるか調べる\n",
    "<img src = \"rank2.png\">"
   ]
  },
  {
   "cell_type": "markdown",
   "metadata": {
    "slideshow": {
     "slide_type": "subslide"
    }
   },
   "source": [
    "行列を表すために numpy を使用\\\n",
    "ただし，numpy.linalg は使用しない"
   ]
  },
  {
   "cell_type": "code",
   "execution_count": 29,
   "metadata": {
    "slideshow": {
     "slide_type": "fragment"
    }
   },
   "outputs": [],
   "source": [
    "import numpy as np"
   ]
  },
  {
   "cell_type": "code",
   "execution_count": 30,
   "metadata": {
    "slideshow": {
     "slide_type": "subslide"
    }
   },
   "outputs": [],
   "source": [
    "def linearly_independent(A):\n",
    "    \n",
    "    M = A.shape[0]  # 行数(縦)\n",
    "    N = A.shape[1]  # 列数(横)\n",
    "    \n",
    "    if M >= N :\n",
    " \n",
    "        for n in range(N):\n",
    "          m=n\n",
    "\n",
    "          if M-n==1: # 行基本変形がこれ以上できないとき終了\n",
    "            break\n",
    "\n",
    "          if(A[m][n]==0): # A[m][n] が０のとき行を入れ替え\n",
    "            for j in range(M-(n+1)):\n",
    "              L=n+j+1 \n",
    "              if A[L][n]!=0:  # m 行目以降で A[L][n]≠0 を探し入れ替え\n",
    "                insert_list=A[m]\n",
    "                A=np.insert(A,m,A[L],axis=0)\n",
    "                A=np.delete(A,m+1,axis=0)\n",
    "                A=np.insert(A,m+1,insert_list,axis=0)\n",
    "                A=np.delete(A,m+2,axis=0)\n",
    "                break\n",
    "                \n",
    "              \n",
    "\n",
    "          # 行基本変形\n",
    "          for k in range(M-(n+1)):\n",
    "            L=n+k+1\n",
    "            cofficient=-1*(A[L][n]/A[m][n]) #係数の生成\n",
    "            X=cofficient*A[m] #係数×行\n",
    "            result_list=A[L]+X #足し算\n",
    "              \n",
    "            A=np.insert(A,L,result_list,axis=0)\n",
    "            A=np.delete(A,L+1,axis=0)\n",
    "            print(\"→\")\n",
    "            print(A)\n",
    "\n",
    "        for k in range(M):  # すべて 0 の行がある場合は一次従属(False)\n",
    "          if np.all(A[k]==0):\n",
    "            flag=False\n",
    "            break  #  rank = N の場合は一次独立(True)\n",
    "          flag=True\n",
    "        return flag\n",
    "\n",
    "    else:  # M < N のときは無条件に一次従属(False)\n",
    "        return False"
   ]
  },
  {
   "cell_type": "markdown",
   "metadata": {
    "slideshow": {
     "slide_type": "subslide"
    }
   },
   "source": [
    "任意の MxN の行列 (A) を入力"
   ]
  },
  {
   "cell_type": "code",
   "execution_count": 31,
   "metadata": {
    "scrolled": false,
    "slideshow": {
     "slide_type": "fragment"
    }
   },
   "outputs": [
    {
     "name": "stdout",
     "output_type": "stream",
     "text": [
      "→\n",
      "[[ 1.  1. -3.]\n",
      " [ 0.  1.  2.]\n",
      " [ 0.  2.  6.]]\n",
      "→\n",
      "[[ 1.  1. -3.]\n",
      " [ 0.  1.  2.]\n",
      " [ 0.  2.  6.]]\n",
      "→\n",
      "[[ 1.  1. -3.]\n",
      " [ 0.  1.  2.]\n",
      " [ 0.  0.  2.]]\n",
      "True\n"
     ]
    }
   ],
   "source": [
    "A=np.array([[1,1,-3],[-1,0,5],[0,2,6]],dtype=\"float64\")\n",
    "print(linearly_independent(A))"
   ]
  },
  {
   "cell_type": "markdown",
   "metadata": {
    "slideshow": {
     "slide_type": "slide"
    }
   },
   "source": [
    "# 基底の定義\n",
    "\\\n",
    "ベクトル空間 $V$  の要素 $ \\boldsymbol{u}_1, \\boldsymbol{u}_2, \\ldots , \\boldsymbol{u}_N $ が以下の 2 つを満たすとき，\n",
    "\\\n",
    "$\\{ \\boldsymbol{u}_1, \\boldsymbol{u}_2, \\ldots , \\boldsymbol{u}_N \\}$ の集合を $V$ の基底と呼ぶ\n",
    "\\\n",
    "\\\n",
    "① $ \\boldsymbol{u}_1, \\boldsymbol{u}_2, \\ldots , \\boldsymbol{u}_N $ が全て一次独立である\n",
    "\\\n",
    "\\\n",
    "② $V$ の任意の要素（どんなベクトルでも）を，実数 $c_1 , c_2 , \\ldots , c_N$ と\n",
    "\\\n",
    "$\\hspace{10pt}$線形結合の式 $\\boldsymbol{x} = c_1 \\boldsymbol{u}_1+ c_2 \\boldsymbol{u}_2+ \\cdots + c_N \\boldsymbol{u}_N$ で表すことができる\n",
    "\\\n",
    "\\\n",
    "このとき $N$ を $V$ の次元と呼び，$\\rm{dim}$$V = N$ と表記する "
   ]
  },
  {
   "cell_type": "markdown",
   "metadata": {
    "slideshow": {
     "slide_type": "subslide"
    }
   },
   "source": [
    "# 標準基底\n",
    "\\\n",
    "$i = 1,2,\\ldots ,N$ に対して，第 $i$ 成分が $1$ でそれ以外の成分が $0$ のとき $ \\boldsymbol{e}_1, \\boldsymbol{e}_2, \\ldots , \\boldsymbol{e}_N$ を標準基底という\n",
    "\\\n",
    "$xy$ 平面（ 2 次元） を例に考えると，\n",
    "成分が $\\boldsymbol{e}_1=\\left[\n",
    "    \\begin{array}{rrr}\n",
    "      1 \\\\\n",
    "      0\n",
    "    \\end{array}\n",
    "  \\right]\\,\n",
    "  \\boldsymbol{e}_2=\\left[\n",
    "    \\begin{array}{rrr}\n",
    "      0 \\\\\n",
    "      1\n",
    "    \\end{array}\n",
    "  \\right]\\,$ の\n",
    "ベクトルで，任意の要素を線形結合式で示すことができる\n",
    "\\\n",
    "<img src = \"std_basis4.png\">  "
   ]
  },
  {
   "cell_type": "markdown",
   "metadata": {
    "slideshow": {
     "slide_type": "slide"
    }
   },
   "source": [
    "# 部分空間の定義\n",
    "\\\n",
    "ベクトル空間 $V$ の部分集合 $W$ が以下の 3 つを満たすとき，\n",
    "\\\n",
    "$W$ を $V$ の部分空間という\n",
    "\\\n",
    "\\\n",
    "$\\space\\space\\space$① $x,y\\in W$ ならば，$x+y\\in W$  （加算の結果も $W$ の要素）\n",
    "\\\n",
    "\\\n",
    "$\\space\\space\\space$② $x\\in W$，スカラ $a\\in C$ ならば，$ax\\in W$  （スカラ倍の結果も $W$ の要素）\n",
    "\\\n",
    "\\\n",
    "（③ $W$ は空集合ではない）"
   ]
  },
  {
   "cell_type": "markdown",
   "metadata": {
    "slideshow": {
     "slide_type": "slide"
    }
   },
   "source": [
    "# 課題\n",
    "\\\n",
    "\\\n",
    "M×1 列ベクトルが，M×N 行列の列空間に含まれるか判定する関数を実装"
   ]
  },
  {
   "cell_type": "markdown",
   "metadata": {
    "slideshow": {
     "slide_type": "subslide"
    }
   },
   "source": [
    "# 列空間とは\n",
    "\\\n",
    "行列 $A$ の各列ベクトルを基底とする空間を列空間という\n",
    "\\\n",
    "\\\n",
    "$M×N$ 行列 $A$ を，\n",
    "\\\n",
    "\\\n",
    "$\\hspace{80pt}A=\\left[\n",
    "    \\begin{array}{rrr}\n",
    "      \\boldsymbol{a}_1, \\boldsymbol{a}_2, \\ldots , \\boldsymbol{a}_N \n",
    "    \\end{array}\n",
    "  \\right]$\n",
    "\\\n",
    "\\\n",
    "のように列ベクトルを並べたものとして考えたとき、 \n",
    "\\\n",
    "列空間に含まれるベクトル $B$ は、スカラ $c_i$ を用いて\n",
    "\\\n",
    "\\\n",
    "$\\hspace{80pt}B=c_1\\boldsymbol{a}_1+ c_2\\boldsymbol{a}_2+ \\cdots + c_N\\boldsymbol{a}_N $\n",
    "\\\n",
    "\\\n",
    "のように表すことができる"
   ]
  },
  {
   "cell_type": "markdown",
   "metadata": {
    "slideshow": {
     "slide_type": "subslide"
    }
   },
   "source": [
    "# 関数の実装\n",
    "\\\n",
    "M×1 列ベクトル（$B$）の 0 以外の要素の数が，\n",
    "\\\n",
    "M×N 行列（$A$）のランク数以内か求める\n",
    "<img src = \"column3.png\">"
   ]
  },
  {
   "cell_type": "code",
   "execution_count": 33,
   "metadata": {
    "slideshow": {
     "slide_type": "subslide"
    }
   },
   "outputs": [],
   "source": [
    "def column_space(A,B):\n",
    "    \n",
    "    M = A.shape[0]  #行数(縦)\n",
    "    N = A.shape[1]  #列数(横)\n",
    "    \n",
    "    # ランク\n",
    "    for n in range(N):\n",
    "          m=n\n",
    "\n",
    "          if M-n==1: # 行基本変形がこれ以上できないとき終了\n",
    "            break\n",
    "\n",
    "          if(A[m][n]==0): # A[m][n] が０のとき行を入れ替え\n",
    "            for j in range(M-(n+1)):\n",
    "              L=n+j+1\n",
    "              if A[L][n]!=0:  # m 行目以降で A[L][n]≠0 を探し入れ替え\n",
    "                insert_list=A[m]\n",
    "                A=np.insert(A,m,A[L],axis=0)\n",
    "                A=np.delete(A,m+1,axis=0)\n",
    "                A=np.insert(A,m+1,insert_list,axis=0)\n",
    "                A=np.delete(A,m+2,axis=0)\n",
    "                break\n",
    "\n",
    "          #行基本変形\n",
    "          for k in range(M-(n+1)):\n",
    "            L=n+k+1\n",
    "            cofficient=-1*(A[L][n]/A[m][n]) #係数の生成\n",
    "            X=cofficient*A[m] #係数×行\n",
    "            result_list=A[L]+X #足し算\n",
    "              \n",
    "            A=np.insert(A,L,result_list,axis=0)\n",
    "            A=np.delete(A,L+1,axis=0)\n",
    "            print(\"→\")\n",
    "            print(A)\n",
    "\n",
    "    # ランクを求める\n",
    "    i = 0\n",
    "    for k in range(M):\n",
    "            if np.all(A[k]==0):\n",
    "                i=i+1\n",
    "    rank=M-i\n",
    "    \n",
    "    # 列空間に含まれるかを判定\n",
    "    if np.count_nonzero(B) <= rank:  # 0 以外の数の個数がランク数以内か\n",
    "        return True\n",
    "    else:\n",
    "        return False"
   ]
  },
  {
   "cell_type": "markdown",
   "metadata": {
    "slideshow": {
     "slide_type": "subslide"
    }
   },
   "source": [
    "任意の MxN 行列 (A) と，M×1 列ベクトル (B) を入力"
   ]
  },
  {
   "cell_type": "code",
   "execution_count": 34,
   "metadata": {
    "slideshow": {
     "slide_type": "fragment"
    }
   },
   "outputs": [
    {
     "name": "stdout",
     "output_type": "stream",
     "text": [
      "→\n",
      "[[ 1.  2.  4.  5.]\n",
      " [ 0. -3. -6. -7.]\n",
      " [ 3.  3.  3.  4.]]\n",
      "→\n",
      "[[  1.   2.   4.   5.]\n",
      " [  0.  -3.  -6.  -7.]\n",
      " [  0.  -3.  -9. -11.]]\n",
      "→\n",
      "[[ 1.  2.  4.  5.]\n",
      " [ 0. -3. -6. -7.]\n",
      " [ 0.  0. -3. -4.]]\n",
      "True\n"
     ]
    }
   ],
   "source": [
    "A = np.array([[1,2,4,5],[2,1,2,3],[3,3,3,4]],dtype=\"float64\")\n",
    "B = np.array([[2],[1],[1]],dtype=\"float64\")\n",
    "print(column_space(A,B))"
   ]
  },
  {
   "cell_type": "markdown",
   "metadata": {
    "slideshow": {
     "slide_type": "slide"
    }
   },
   "source": [
    "# まとめ\n",
    "\\\n",
    "・Jupyter Notebook を使うことによって，スライド作りの効率が良くなった\\\n",
    "\\\n",
    "・ただ，凝ったスライドを作るには，パワーポイントなどの方が良いと感じた\\\n",
    "\\\n",
    "・一次独立と基底について理解した\\\n",
    "\\\n",
    "・部分空間について理解した"
   ]
  }
 ],
 "metadata": {
  "celltoolbar": "Slideshow",
  "kernelspec": {
   "display_name": "Python 3",
   "language": "python",
   "name": "python3"
  },
  "language_info": {
   "codemirror_mode": {
    "name": "ipython",
    "version": 3
   },
   "file_extension": ".py",
   "mimetype": "text/x-python",
   "name": "python",
   "nbconvert_exporter": "python",
   "pygments_lexer": "ipython3",
   "version": "3.7.7"
  },
  "rise": {
   "enable_chalkboard": true,
   "scroll": true
  }
 },
 "nbformat": 4,
 "nbformat_minor": 4
}
